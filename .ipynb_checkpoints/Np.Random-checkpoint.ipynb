{
 "cells": [
  {
   "cell_type": "markdown",
   "id": "ba2900d7",
   "metadata": {},
   "source": [
    "<br>\n",
    "Programming for Data Analysis\n",
    "\n",
    "___\n"
   ]
  },
  {
   "cell_type": "markdown",
   "id": "27c016ff",
   "metadata": {},
   "source": [
    "<br>\n",
    "numpy.random package \n",
    "\n",
    "***\n",
    "\n",
    "In this assignment I will be explaining the uses of the numpy.random package. It is a sub package of numpy, numpy can create multi dimensonal arrays and uses algorthyms to quickly analyse data. The numpy.random package is used to generate simulated data which then can be used to carry out analysis\n"
   ]
  },
  {
   "cell_type": "markdown",
   "id": "9b759df3",
   "metadata": {},
   "source": [
    "<br>\n",
    "Simple random data functions\n",
    "\n",
    "***\n",
    "\n",
    "Explain the use \n"
   ]
  },
  {
   "cell_type": "code",
   "execution_count": 30,
   "id": "c8561d1c",
   "metadata": {},
   "outputs": [],
   "source": [
    "import numpy as np\n",
    "\n",
    "rng = np.random.default_rng()"
   ]
  },
  {
   "cell_type": "code",
   "execution_count": 32,
   "id": "4646e003",
   "metadata": {},
   "outputs": [
    {
     "data": {
      "text/plain": [
       "array([[51, 88, 75],\n",
       "       [36,  5, 11],\n",
       "       [25,  1, 83],\n",
       "       [16, 36, 83],\n",
       "       [43, 54, 22]], dtype=int64)"
      ]
     },
     "execution_count": 32,
     "metadata": {},
     "output_type": "execute_result"
    }
   ],
   "source": [
    "# Integers - returns random integers\n",
    "\n",
    "#this will return one random integer between 0-5\n",
    "rng.integers (6)\n",
    "\n",
    "#this will return 10000 random integers between 0-99\n",
    "i = rng.integers (100, size =10000)\n",
    "i\n",
    "#this will return 5 coloumns and 3 rows of random integers between the numbers 0 - 99\n",
    "x = rng.integers (100, size = (5  , 3))\n",
    "x"
   ]
  },
  {
   "cell_type": "code",
   "execution_count": 21,
   "id": "267e4366",
   "metadata": {},
   "outputs": [
    {
     "data": {
      "image/png": "[encoded data removed]",
      "text/plain": [
       "<Figure size 432x288 with 1 Axes>"
      ]
     },
     "metadata": {
      "needs_background": "light"
     },
     "output_type": "display_data"
    }
   ],
   "source": [
    "#Show distribution of random integers in histogram plot\n",
    "\n",
    "import matplotlib.pyplot as plt\n",
    "\n",
    "plt.hist (i)\n",
    "plt.show ()"
   ]
  },
  {
   "cell_type": "markdown",
   "id": "99f25623",
   "metadata": {},
   "source": [
    "<br>\n",
    "Permutations functions\n",
    "\n",
    "***\n",
    "\n",
    "Explain the use"
   ]
  },
  {
   "cell_type": "code",
   "execution_count": null,
   "id": "2fd11b54",
   "metadata": {},
   "outputs": [],
   "source": []
  },
  {
   "cell_type": "markdown",
   "id": "d8d90ab7",
   "metadata": {},
   "source": [
    "<br>\n",
    "Distributions function\n",
    "\n",
    "***\n",
    "\n",
    "Explain use - to generate random python data\n"
   ]
  },
  {
   "cell_type": "markdown",
   "id": "04db9fc5",
   "metadata": {},
   "source": [
    "5 Disribution functions\n",
    "\n",
    "\n",
    "1. Rand() function of numpy random\n",
    "2. Choice(a, size)  \n",
    "3. randint() function of numpy random\n",
    "4. Uniform()\n",
    "5. Shuffle()"
   ]
  },
  {
   "cell_type": "code",
   "execution_count": null,
   "id": "3d308514",
   "metadata": {},
   "outputs": [],
   "source": []
  },
  {
   "cell_type": "markdown",
   "id": "3b76f663",
   "metadata": {},
   "source": [
    "<br>\n",
    "Explain the use of seeds in generating pseudorandon numbers\n",
    "\n",
    "***"
   ]
  },
  {
   "cell_type": "code",
   "execution_count": null,
   "id": "2802f786",
   "metadata": {},
   "outputs": [],
   "source": []
  },
  {
   "cell_type": "markdown",
   "id": "0fc51557",
   "metadata": {},
   "source": [
    "<br>\n",
    "References\n",
    "\n",
    "***"
   ]
  },
  {
   "cell_type": "code",
   "execution_count": null,
   "id": "c90413c3",
   "metadata": {},
   "outputs": [],
   "source": []
  }
 ],
 "metadata": {
  "interpreter": {
   "hash": "bcc66141a08faa045a8ae474ef8c79a15b807dc8555628bafcac26ff30b943f9"
  },
  "kernelspec": {
   "display_name": "Python 3",
   "language": "python",
   "name": "python3"
  },
  "language_info": {
   "codemirror_mode": {
    "name": "ipython",
    "version": 3
   },
   "file_extension": ".py",
   "mimetype": "text/x-python",
   "name": "python",
   "nbconvert_exporter": "python",
   "pygments_lexer": "ipython3",
   "version": "3.8.8"
  }
 },
 "nbformat": 4,
 "nbformat_minor": 5
}
