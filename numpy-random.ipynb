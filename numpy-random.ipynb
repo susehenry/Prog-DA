{
 "cells": [
  {
   "attachments": {
    "NumPy_logo.svg.png": {
     "image/png": "[encoded data removed]"
    }
   },
   "cell_type": "markdown",
   "metadata": {},
   "source": [
    "![NumPy_logo.svg.png](attachment:NumPy_logo.svg.png)\n",
    "\n",
    "# __numpy.random package v1.19__\n",
    "\n",
    "***\n",
    "\n",
    "In this notebook I will be exploring the uses of the numpy.random package. It is a sub package of NumPy, NumPy is a python library used for working with arrays this package can create an enormous range of arrays and uses algorithms to analyse data up to 50 times faster than traditional python lists. \n",
    "The numpy.random package is used to generate simulated data which then can be used in an array to carry out analysis.\n",
    "\n",
    "What is an array?\n",
    "\n",
    "An array is a central data structure of the NumPy library. An array is a grid of values and it contains information about the raw data, how to locate an element, and how to interpret an element. NumPy arrays can be defined using Python sequences such as lists and tuples. A list of numbers will create a 1D array,a list of lists will create a 2D array, further nested lists will create higher-dimensional arrays.\n",
    "\n",
    "\n"
   ]
  },
  {
   "cell_type": "markdown",
   "metadata": {},
   "source": [
    "In this updated version of python v1.19 and higher versions when using the NumPy.Random Package for code we first need to implement a numpy.random.Generator. \n",
    "\n",
    "To create a Generator we use the default_rng() function\n",
    "\n",
    "```rng = np.random.default_rng()```\n",
    "\n",
    "This will return random integers from low (inclusive) to high (exclusive), or if endpoint=True, low (inclusive) to high (inclusive). \n",
    "\n",
    "NumPy also provides numpy.random.RandomState objects for sampling. RandomState is a legacy implementation included for backwards compatibility with older code. For new and updated code bases you should make use of numpy.random.Generator. You might also encountered code that samples directly from random for example np.random.randint(...). This is still using a RandomState object and should be avoided for newer code. Lot’s of code on the web will make use of RandomState.\n",
    "\n",
    "\n"
   ]
  },
  {
   "cell_type": "markdown",
   "metadata": {},
   "source": [
    "\n",
    "## Simple random data functions\n",
    "\n",
    "Below are examples of how to use the Numpy random package to generate random numbers, we will first see how to generate a single random number and then extend it to generate an array of random numbers.\n",
    "\n",
    "\n",
    "***\n",
    "### Integers function\n",
    "\n",
    "Returns random intergers from low (inclusive) to high (exclusive), or if endpoint=True, low (inclusive) to high (inclusive).\n",
    "\n",
    "\n",
    "\n"
   ]
  },
  {
   "cell_type": "code",
   "execution_count": 37,
   "metadata": {},
   "outputs": [
    {
     "name": "stdout",
     "output_type": "stream",
     "text": [
      "a 2\n",
      "i [69 54 67 ... 74 49 96]\n",
      "x [[45 91  3]\n",
      " [67 91 55]\n",
      " [14 90 85]\n",
      " [49 37 13]\n",
      " [79 50 96]]\n"
     ]
    }
   ],
   "source": [
    "import numpy as np\n",
    "import random\n",
    "rng = np.random.default_rng() #rng - random number generator\n",
    "\n",
    "#this will return one random integer between 0-5\n",
    "a = rng.integers (6)\n",
    "print ('a', a)\n",
    "\n",
    "#this will return 10000 random integers between 0-99\n",
    "i = rng.integers (100, size =10000)\n",
    "print (\"i\", i)\n",
    "\n",
    "#this will return 5 coloumns and 3 rows of random integers between the numbers 0 - 99\n",
    "x = rng.integers (100, size = (5  , 3))\n",
    "print (\"x\", x)"
   ]
  },
  {
   "cell_type": "code",
   "execution_count": 38,
   "metadata": {},
   "outputs": [
    {
     "name": "stdout",
     "output_type": "stream",
     "text": [
      "a1 [0 0 1 0 2 0 3 2 0 1]\n",
      "a2 [0 1 0 0 1 0 0 1 1 0]\n",
      "a3 [[3 3 1 1]\n",
      " [2 4 1 1]]\n",
      "a4 [1 2 4]\n",
      "a5 [3 7 9]\n",
      "a6 [[ 7  7  8  8]\n",
      " [ 8  4 13  9]]\n"
     ]
    }
   ],
   "source": [
    "#random intergers of different inputs \n",
    "#and the influence they have on the output values\n",
    "\n",
    "\n",
    "#will generate numbers from 0 up to but not including 4\n",
    "a1 = rng.integers(4, size=10)\n",
    "print ( 'a1', a1)\n",
    "\n",
    "\n",
    "\n",
    "#using endpoint =True will generate numbers including 1\n",
    "a2 = rng.integers(1, size=10, endpoint=True) \n",
    "print ('a2', a2)\n",
    "\n",
    "\n",
    "\n",
    "#generates a 2 x 4 array of intergers between 0 and 4, \n",
    "\n",
    "a3 = rng.integers(5, size=(2, 4))\n",
    "print ('a3', a3)\n",
    "\n",
    "\n",
    "\n",
    "#generates a 1 x 3 array with 3 different upper bounds\n",
    "\n",
    "a4 = rng.integers(1, [3, 5, 10])\n",
    "print ('a4', a4)\n",
    "\n",
    "\n",
    "#generates a 1 by 3 array with 3 different lower bounds\n",
    "\n",
    "a5 = rng.integers([1, 5, 7], 10)\n",
    "\n",
    "print ('a5', a5)\n",
    "\n",
    "\n",
    "\n",
    "#Generate a 2 by 4 array using broadcasting with dtype of uint8\n",
    "\n",
    "a6 = rng.integers([1, 3, 5, 7], [[10], [20]], dtype=np.uint8)\n",
    "print ('a6', a6)\n",
    "\n"
   ]
  },
  {
   "cell_type": "markdown",
   "metadata": {},
   "source": [
    "\n",
    "### Random \n",
    "\n",
    "***\n",
    "\n",
    " \n",
    "This function returns a random float between 0.0 and 1.0, single float or array of floats can be returned.\n",
    "If the given shape is, e.g., (m, n, k), then m * n * k samples are drawn. Default is None, in which case a single value is returned.\n",
    "\n",
    "\n",
    "\n"
   ]
  },
  {
   "cell_type": "code",
   "execution_count": 39,
   "metadata": {},
   "outputs": [
    {
     "name": "stdout",
     "output_type": "stream",
     "text": [
      "dft 0.769156430047257\n",
      "arr [[[0.8019409  0.02768372]\n",
      "  [0.18292725 0.89372032]]\n",
      "\n",
      " [[0.70285924 0.047649  ]\n",
      "  [0.04532432 0.03622619]]\n",
      "\n",
      " [[0.23070854 0.98339415]\n",
      "  [0.88982184 0.71303192]]\n",
      "\n",
      " [[0.57591566 0.55247285]\n",
      "  [0.95600026 0.72930229]]\n",
      "\n",
      " [[0.79304548 0.3927743 ]\n",
      "  [0.5805288  0.32040417]]]\n"
     ]
    }
   ],
   "source": [
    "#Example of default, single value is returned\n",
    "rng = np.random.default_rng() # no value entered\n",
    "dft = rng.random()\n",
    "print ('dft', dft)\n",
    "\n",
    "\n",
    "#Example of array\n",
    "arr = rng.random((5,2,2))\n",
    "print ('arr', arr)\n"
   ]
  },
  {
   "cell_type": "code",
   "execution_count": 44,
   "metadata": {},
   "outputs": [
    {
     "data": {
      "text/plain": [
       "array([[-0.22638078, -0.8173385 ,  1.11456159],\n",
       "       [-2.79364195, -2.79117854,  0.66337634]])"
      ]
     },
     "execution_count": 44,
     "metadata": {},
     "output_type": "execute_result"
    }
   ],
   "source": [
    "# Example 5 * random float in a two by three array of random numbers from (-3, 0):\n",
    "\n",
    "5 * rng.random ((2,3)) -3\n"
   ]
  },
  {
   "cell_type": "markdown",
   "metadata": {},
   "source": [
    "\n",
    "### Choice \n",
    "\n",
    "***\n",
    "The choice method allows you to generate a random value based on an array of values.\n",
    "The choice method takes an array as a parameter and randomly returns one of the values.\n",
    "Return one of the values in an array:"
   ]
  },
  {
   "cell_type": "code",
   "execution_count": 8,
   "metadata": {},
   "outputs": [
    {
     "data": {
      "text/plain": [
       "9"
      ]
     },
     "execution_count": 8,
     "metadata": {},
     "output_type": "execute_result"
    }
   ],
   "source": [
    "\n",
    "#Example return one of the values in the array\n",
    "from numpy import random\n",
    "rng = np.random.default_rng()\n",
    "\n",
    "rng.choice([3, 5, 7, 9])\n",
    "\n"
   ]
  },
  {
   "cell_type": "markdown",
   "metadata": {},
   "source": [
    "The choice method also allows you to return an array of values from the array parameter.\n",
    " "
   ]
  },
  {
   "cell_type": "code",
   "execution_count": 46,
   "metadata": {},
   "outputs": [
    {
     "data": {
      "text/plain": [
       "array([[9, 4, 4, 4, 4, 4],\n",
       "       [1, 9, 9, 1, 7, 9],\n",
       "       [1, 9, 7, 9, 9, 9],\n",
       "       [1, 9, 1, 9, 7, 7],\n",
       "       [1, 4, 1, 4, 9, 4]])"
      ]
     },
     "execution_count": 46,
     "metadata": {},
     "output_type": "execute_result"
    }
   ],
   "source": [
    "#Example of 2-D array size set to generate 5 rows\n",
    "# Each row generates 6 values from the array parameter (1, 4, 7, and 9):\n",
    "\n",
    "rng = np.random.default_rng()\n",
    "\n",
    "rng.choice([1, 4, 7, 9], size=(5,6)) \n",
    " "
   ]
  },
  {
   "cell_type": "markdown",
   "metadata": {},
   "source": [
    "\n",
    "### Choice and probabaility density function \n",
    "\n",
    "This function describes the probability of all values in an array.The choice method allows us to specify the probability for each value.\n",
    "The probability is set by a number between 0 and 1, where 0 means that the value will never occur and 1 means that the value will always occur. \n",
    "\n",
    "In the below example - \n",
    "\n",
    "The probability for the value to be 2 is set to be 0.2\n",
    "\n",
    "The probability for the value to be 5 is set to be 0.3\n",
    "\n",
    "The probability for the value to be 7 is set to be 0.5\n",
    "\n",
    "The probability for the value to be 9 is set to be 0\n",
    "\n",
    "The sum of all probability numbers should be 1.\n",
    "\n",
    "\n",
    "\n",
    "\n",
    "\n"
   ]
  },
  {
   "cell_type": "code",
   "execution_count": 50,
   "metadata": {},
   "outputs": [
    {
     "data": {
      "text/plain": [
       "array([7, 7, 5, 2, 5, 7, 5, 7, 2, 7, 2, 7, 2, 5, 7, 7, 7, 2, 2, 7, 7, 5,\n",
       "       2, 7, 7, 2, 7, 7, 2, 7, 5, 2, 7, 7, 7, 7, 2, 5, 2, 7, 7, 2, 5, 7,\n",
       "       5, 7, 5, 7, 7, 7, 7, 7, 5, 7, 7, 2, 2, 7, 7, 7, 5, 5, 5, 7, 7, 5,\n",
       "       5, 7, 5, 7, 5, 7, 2, 7, 7, 7, 5, 2, 5, 7, 7, 7, 5, 7, 7, 5, 5, 2,\n",
       "       7, 5, 7, 7, 7, 2, 7, 5, 7, 7, 7, 7])"
      ]
     },
     "execution_count": 50,
     "metadata": {},
     "output_type": "execute_result"
    }
   ],
   "source": [
    "#example choice and probabilty density function\n",
    "#As the example below shows 9 will never occur in the output\n",
    "\n",
    "from numpy import random\n",
    "rng = np.random.default_rng()\n",
    "\n",
    "rng.choice([2, 5, 7, 9], p=[0.2, 0.3, 0.5, 0.0], size=(100))\n"
   ]
  },
  {
   "cell_type": "code",
   "execution_count": 11,
   "metadata": {},
   "outputs": [
    {
     "data": {
      "text/plain": [
       "array([[7, 7, 5, 5, 5],\n",
       "       [7, 7, 7, 7, 3],\n",
       "       [5, 3, 7, 3, 7]])"
      ]
     },
     "execution_count": 11,
     "metadata": {},
     "output_type": "execute_result"
    }
   ],
   "source": [
    "#choice also allows you to return arrays of any shape and size by specifing the shape in the size parameter\n",
    "#below example shows the return of a 2-D array with 3 rows each containing 5 values\n",
    "\n",
    "from numpy import random\n",
    "rng = np.random.default_rng()\n",
    "\n",
    "rng.choice([3, 5, 7, 9], p=[0.1, 0.3, 0.6, 0.0], size=(3, 5))\n",
    "\n"
   ]
  },
  {
   "cell_type": "markdown",
   "metadata": {},
   "source": [
    "\n",
    "### Bytes\n",
    "\n",
    "Random bytes is used to create a string with a specified number of bytes.\n"
   ]
  },
  {
   "cell_type": "code",
   "execution_count": 12,
   "metadata": {},
   "outputs": [
    {
     "data": {
      "text/plain": [
       "b'\\xd8\\xa88\\x94e\\x80j:\\xa5\\x14'"
      ]
     },
     "execution_count": 12,
     "metadata": {},
     "output_type": "execute_result"
    }
   ],
   "source": [
    "#Example\n",
    " \n",
    "np.random.default_rng().bytes(10)\n"
   ]
  },
  {
   "cell_type": "markdown",
   "metadata": {},
   "source": [
    "\n",
    "### Permutations functions - grouping values were the order of values matter\n",
    "\n",
    "***\n",
    "There are the following functions of permutations:\n",
    "\n",
    "```np.random.shuffle()```\n",
    "\n",
    "This function is used for modifying a sequence in-place by shuffling its contents.\n",
    "\n",
    " ```np.random.permutation()```\n",
    "\n",
    "This function permute a sequence randomly or return a permuted range.\n",
    "\n",
    "```np.random.permuted () ```\n",
    "\n",
    "This function randomly permutes x along axis axis. It is different to shuffle as each slice along the given axis is shuffled independtly along the x axis"
   ]
  },
  {
   "cell_type": "code",
   "execution_count": 59,
   "metadata": {},
   "outputs": [
    {
     "data": {
      "text/plain": [
       "array([ 1,  5,  2,  6,  9, 11,  0,  8,  3,  4, 10,  7])"
      ]
     },
     "execution_count": 59,
     "metadata": {},
     "output_type": "execute_result"
    }
   ],
   "source": [
    "#Example of np.random.permutation\n",
    "\n",
    "\n",
    "a=rng.permutation(12)  \n",
    "a  "
   ]
  },
  {
   "cell_type": "code",
   "execution_count": 61,
   "metadata": {},
   "outputs": [
    {
     "ename": "AttributeError",
     "evalue": "module 'numpy' has no attribute 'permuted'",
     "output_type": "error",
     "traceback": [
      "\u001b[1;31m---------------------------------------------------------------------------\u001b[0m",
      "\u001b[1;31mAttributeError\u001b[0m                            Traceback (most recent call last)",
      "\u001b[1;32m<ipython-input-61-47ffb747adc2>\u001b[0m in \u001b[0;36m<module>\u001b[1;34m\u001b[0m\n\u001b[0;32m      7\u001b[0m \u001b[0my\u001b[0m \u001b[1;33m=\u001b[0m \u001b[0mrng\u001b[0m\u001b[1;33m.\u001b[0m\u001b[0mpermuted\u001b[0m\u001b[1;33m(\u001b[0m\u001b[0mx\u001b[0m\u001b[1;33m,\u001b[0m \u001b[0maxis\u001b[0m\u001b[1;33m=\u001b[0m\u001b[1;36m1\u001b[0m\u001b[1;33m)\u001b[0m\u001b[1;33m\u001b[0m\u001b[1;33m\u001b[0m\u001b[0m\n\u001b[0;32m      8\u001b[0m \u001b[1;33m\u001b[0m\u001b[0m\n\u001b[1;32m----> 9\u001b[1;33m \u001b[0my\u001b[0m\u001b[1;33m=\u001b[0m\u001b[0mnp\u001b[0m\u001b[1;33m.\u001b[0m\u001b[0mpermuted\u001b[0m\u001b[1;33m(\u001b[0m\u001b[0mx\u001b[0m\u001b[1;33m,\u001b[0m \u001b[0maxis\u001b[0m\u001b[1;33m=\u001b[0m\u001b[1;36m1\u001b[0m\u001b[1;33m,\u001b[0m \u001b[0mout\u001b[0m\u001b[1;33m=\u001b[0m\u001b[0mx\u001b[0m\u001b[1;33m)\u001b[0m\u001b[1;33m\u001b[0m\u001b[1;33m\u001b[0m\u001b[0m\n\u001b[0m",
      "\u001b[1;32m~\\anaconda3\\lib\\site-packages\\numpy\\__init__.py\u001b[0m in \u001b[0;36m__getattr__\u001b[1;34m(attr)\u001b[0m\n\u001b[0;32m    301\u001b[0m                 \u001b[1;32mreturn\u001b[0m \u001b[0mTester\u001b[0m\u001b[1;33m\u001b[0m\u001b[1;33m\u001b[0m\u001b[0m\n\u001b[0;32m    302\u001b[0m \u001b[1;33m\u001b[0m\u001b[0m\n\u001b[1;32m--> 303\u001b[1;33m             raise AttributeError(\"module {!r} has no attribute \"\n\u001b[0m\u001b[0;32m    304\u001b[0m                                  \"{!r}\".format(__name__, attr))\n\u001b[0;32m    305\u001b[0m \u001b[1;33m\u001b[0m\u001b[0m\n",
      "\u001b[1;31mAttributeError\u001b[0m: module 'numpy' has no attribute 'permuted'"
     ]
    }
   ],
   "source": [
    "# Example of np.random.permuted\n",
    "rng = np.random.default_rng()\n",
    "\n",
    "#x = rng.arange(24).reshape(3, 8)\n",
    "#x\n",
    "\n",
    "y = rng.permuted(x, axis=1)\n",
    "\n",
    "y=np.permuted(x, axis=1, out=x)\n"
   ]
  },
  {
   "cell_type": "code",
   "execution_count": 1,
   "metadata": {},
   "outputs": [
    {
     "data": {
      "text/plain": [
       "array([ 8,  3,  0, 10,  1,  7,  4,  6,  2,  5, 11,  9])"
      ]
     },
     "execution_count": 1,
     "metadata": {},
     "output_type": "execute_result"
    }
   ],
   "source": [
    "#Example of np.random.shuffle e.g shuffle cards\n",
    "\n",
    "import numpy as np  \n",
    "a=np.arange(12)  \n",
    "a  \n",
    "np.random.shuffle(a)  \n",
    "a  "
   ]
  },
  {
   "cell_type": "markdown",
   "metadata": {},
   "source": [
    "\n",
    "## Distributions function\n",
    "\n",
    "***\n",
    "\n",
    "The numpy.random namespace. This provides a variety of distributions that you can use for efficient sampling. Below I have examples of five of these distributions\n"
   ]
  },
  {
   "cell_type": "markdown",
   "metadata": {},
   "source": [
    "\n",
    "Disribution functions\n",
    "\n",
    "***\n",
    "\n",
    "Uniform distribution - one of the key distributions\n",
    "\n",
    "Exponential Distribution\n",
    "\n",
    "Normal Distribution \n",
    "\n",
    "Poisson Distribution\n",
    "\n",
    "Binomial Distribution\n",
    "\n",
    "\n",
    "https://www.datacamp.com/community/tutorials/probability-distributions-python"
   ]
  },
  {
   "cell_type": "code",
   "execution_count": 13,
   "metadata": {},
   "outputs": [
    {
     "name": "stderr",
     "output_type": "stream",
     "text": [
      "UsageError: unrecognized arguments: # for inline plots in jupyter\n"
     ]
    }
   ],
   "source": [
    "# to display plots of distribution functions\n",
    "import matplotlib.pyplot as plt # used to create distribution plots\n",
    "import seaborn as sns  # used to visualize random distributions\n",
    "sns.set (color_codes=True) # settings for seaborn plotting style\n",
    "sns.set (rc={'figure.figsize':(5,5)}) # settings for seaborn plot sizes\n",
    "%matplotlib inline # for inline plots in jupyter"
   ]
  },
  {
   "cell_type": "markdown",
   "metadata": {},
   "source": [
    "\n",
    "### Uniform Distribution\n",
    "\n",
    "***\n",
    "random.Generator.uniform(low=0.0, high=1.0, size=None)\n",
    "Draw samples from a uniform distribution.\n",
    "\n",
    "Samples are uniformly distributed over the half-open interval [low, high) (includes low, but excludes high). In other words, any value within the given interval is equally likely to be drawn by uniform.\n",
    "\n",
    "https://numpy.org/doc/stable/reference/random/generated/numpy.random.Generator.uniform.html"
   ]
  },
  {
   "cell_type": "code",
   "execution_count": 8,
   "metadata": {},
   "outputs": [
    {
     "data": {
      "image/png": "[encoded data removed]",
      "text/plain": [
       "<Figure size 432x288 with 1 Axes>"
      ]
     },
     "metadata": {
      "needs_background": "light"
     },
     "output_type": "display_data"
    }
   ],
   "source": [
    "#Show uniform distribution of random integers in histogram plot\n",
    "\n",
    "#Examples\n",
    "\n",
    "#Draw samples from the distribution:\n",
    "\n",
    "s = np.random.default_rng().uniform(-1,0,100000)\n",
    "#All values are within the given interval:\n",
    "\n",
    "np.all(s >= -1)\n",
    "True\n",
    "np.all(s < 0)\n",
    "True\n",
    "#Display the histogram of the samples, along with the probability density function:\n",
    "\n",
    "#import matplotlib.pyplot as plt\n",
    "count, bins, ignored = plt.hist(s, 15, density=True)\n",
    "plt.plot(bins, np.ones_like(bins), linewidth=2, color='r')\n",
    "plt.show()\n"
   ]
  },
  {
   "cell_type": "markdown",
   "metadata": {},
   "source": [
    "Exponential Distribution\n",
    "\n",
    "***\n",
    "def distribution_plot(samples, bins=100):\n",
    "    '''\n",
    "    helper function to visualise the distributions\n",
    "    '''\n",
    "    hist = np.histogram(samples, bins=np.arange(bins), \n",
    "                        density=True)\n",
    "    plt.plot(hist[0]);\n",
    "    plt.ylabel('p(x)');\n",
    "    plt.xlabel('x');"
   ]
  },
  {
   "cell_type": "code",
   "execution_count": 14,
   "metadata": {},
   "outputs": [
    {
     "ename": "NameError",
     "evalue": "name 'distribution_plot' is not defined",
     "output_type": "error",
     "traceback": [
      "\u001b[1;31m---------------------------------------------------------------------------\u001b[0m",
      "\u001b[1;31mNameError\u001b[0m                                 Traceback (most recent call last)",
      "\u001b[1;32m<ipython-input-14-063c7b73e65e>\u001b[0m in \u001b[0;36m<module>\u001b[1;34m\u001b[0m\n\u001b[0;32m      1\u001b[0m \u001b[0mrng\u001b[0m \u001b[1;33m=\u001b[0m \u001b[0mnp\u001b[0m\u001b[1;33m.\u001b[0m\u001b[0mrandom\u001b[0m\u001b[1;33m.\u001b[0m\u001b[0mdefault_rng\u001b[0m\u001b[1;33m(\u001b[0m\u001b[1;33m)\u001b[0m\u001b[1;33m\u001b[0m\u001b[1;33m\u001b[0m\u001b[0m\n\u001b[0;32m      2\u001b[0m \u001b[0msamples\u001b[0m \u001b[1;33m=\u001b[0m \u001b[0mrng\u001b[0m\u001b[1;33m.\u001b[0m\u001b[0mexponential\u001b[0m\u001b[1;33m(\u001b[0m\u001b[0mscale\u001b[0m\u001b[1;33m=\u001b[0m\u001b[1;36m12\u001b[0m\u001b[1;33m,\u001b[0m \u001b[0msize\u001b[0m\u001b[1;33m=\u001b[0m\u001b[1;36m100_000\u001b[0m\u001b[1;33m)\u001b[0m\u001b[1;33m\u001b[0m\u001b[1;33m\u001b[0m\u001b[0m\n\u001b[1;32m----> 3\u001b[1;33m \u001b[0mdistribution_plot\u001b[0m\u001b[1;33m(\u001b[0m\u001b[0msamples\u001b[0m\u001b[1;33m,\u001b[0m \u001b[0mbins\u001b[0m\u001b[1;33m=\u001b[0m\u001b[1;36m50\u001b[0m\u001b[1;33m)\u001b[0m\u001b[1;33m\u001b[0m\u001b[1;33m\u001b[0m\u001b[0m\n\u001b[0m",
      "\u001b[1;31mNameError\u001b[0m: name 'distribution_plot' is not defined"
     ]
    }
   ],
   "source": [
    "\n",
    "rng = np.random.default_rng()\n",
    "samples = rng.exponential(scale=12, size=100_000)\n",
    "distribution_plot(samples, bins=50)"
   ]
  },
  {
   "cell_type": "markdown",
   "metadata": {},
   "source": [
    "\n",
    "### Normal Distribution\n",
    "\n",
    "***\n",
    "\n",
    "Draw random samples from a normal (Gaussian) distribution.\n",
    "\n",
    "The probability density function of the normal distribution, first derived by De Moivre and 200 years later by both Gauss and Laplace independently [2], is often called the bell curve because of its characteristic shape (see the example below).\n",
    "\n",
    "The normal distributions occurs often in nature. For example, it describes the commonly occurring distribution of samples influenced by a large number of tiny, random disturbances, each with its own unique distribution [2].\n",
    "\n",
    "It is often the case with medical data that the histogram of a continuous variable obtained from a single measurement on different subjects will have a characteristic 'bell-shaped' distribution known as a Normal distribution. One such example is the histogram of the birth weight (in kilograms) of the 3,226 new born babies https://www.healthknowledge.org.uk/public-health-textbook/research-methods/1b-statistical-methods/statistical-distributions"
   ]
  },
  {
   "cell_type": "code",
   "execution_count": 13,
   "metadata": {},
   "outputs": [],
   "source": [
    "#Normal distribution\n",
    "#Examples\n",
    "\n",
    "#Draw samples from the distribution:\n",
    "\n",
    "mu, sigma = 0, 0.1 # mean and standard deviation\n",
    "s = np.random.default_rng().normal(mu, sigma, 1000)\n",
    "#Verify the mean and the variance:\n",
    "\n",
    "abs(mu - np.mean(s))\n",
    "0.0  # may vary\n",
    "abs(sigma - np.std(s, ddof=1))\n",
    "0.0  # may vary\n",
    "#Display the histogram of the samples, along with the probability density function:\n",
    "\n",
    "import matplotlib.pyplot as plt\n",
    "count, bins, ignored = plt.hist(s, 30, density=True)\n",
    "plt.plot(bins, 1/(sigma * np.sqrt(2 * np.pi)) *\n",
    "               np.exp( - (bins - mu)**2 / (2 * sigma**2) ),\n",
    "         linewidth=2, color='r')\n",
    "plt.show()\n"
   ]
  },
  {
   "cell_type": "markdown",
   "metadata": {},
   "source": [
    "The histogram plot below is an example of the sample data is an estimate of the population distribution of birth weights in new born babies. This population distribution can be estimated by the superimposed smooth 'bell-shaped' curve or 'Normal' distribution shown. We presume that if we were able to look at the entire population of new born babies then the distribution of birth weight would have exactly the Normal shape. We often infer, from a sample whose histogram has the approximate Normal shape, that the population will have exactly, or as near as makes no practical difference, that Normal shape."
   ]
  },
  {
   "cell_type": "code",
   "execution_count": 9,
   "metadata": {},
   "outputs": [
    {
     "data": {
      "image/png": "[encoded data removed]",
      "text/plain": [
       "<Figure size 432x288 with 1 Axes>"
      ]
     },
     "metadata": {
      "needs_background": "light"
     },
     "output_type": "display_data"
    }
   ],
   "source": [
    "#Distribution of birth weights of 3,226 new born babies\n",
    "#seed with the mean weight 3.39kg\n",
    "#set parameters to 2.31kg to 4.47kg\n",
    "#standard deviation 0.55kg\n",
    "mu, sigma = 3.39, 0.55 # mean and standard deviation\n",
    "s = np.random.default_rng().normal(mu, sigma, 3226)\n",
    "#Verify the mean and the variance:\n",
    "\n",
    "abs(mu - np.mean(s))\n",
    "0.0  # may vary\n",
    "abs(sigma - np.std(s, ddof=1))\n",
    "0.0  # may vary\n",
    "\n",
    "import matplotlib.pyplot as plt\n",
    "count, bins, ignored = plt.hist(s, 30, density=True)\n",
    "plt.plot(bins, 1/(sigma * np.sqrt(2 * np.pi)) *\n",
    "               np.exp( - (bins - mu)**2 / (2 * sigma**2) ),\n",
    "         linewidth=2, color='r')\n",
    "plt.show()\n"
   ]
  },
  {
   "cell_type": "markdown",
   "metadata": {},
   "source": [
    "\n",
    "### Binomial Distribution\n",
    "\n",
    "***\n",
    "random.Generator.binomial It describes the outcome of binary scenarios, e.g. toss of a coin, it will either be head or tails.\n",
    "it has three parameters \n",
    "python ```n```\n",
    "python``` p```\n",
    "python ``` size```\n",
    "Draw samples from a binomial distribution.Binomial distribution describes the distribution of binary data from a finite sample. Thus it gives the probability of getting r events out of n trials.\n",
    "\n",
    "Samples are drawn from a binomial distribution with specified parameters, n trials and p probability of success where n an integer >= 0 and p is in the interval [0,1]. (n may be input as a float, but it is truncated to an integer in use)\n",
    "\n",
    "When estimating the standard error of a proportion in a population by using a random sample, the normal distribution works well unless the product p*n <=5, where p = population proportion estimate, and n = number of samples, in which case the binomial distribution is used instead. For example, a sample of 15 people shows 4 who are left handed, and 11 who are right handed. Then p = 4/15 = 27%. 0.27*15 = 4, so the binomial distribution should be used in this case.\n",
    "\n",
    "https://numpy.org/doc/stable/reference/random/generated/numpy.random.Generator.binomial.html\n"
   ]
  },
  {
   "cell_type": "code",
   "execution_count": 16,
   "metadata": {},
   "outputs": [],
   "source": [
    "#Binomial Distribution\n",
    "\n",
    "#Examples\n",
    "\n",
    "#Draw samples from the distribution:\n",
    "\n",
    "rng = np.random.default_rng()\n",
    "n, p = 10, .5  # number of trials, probability of each trial\n",
    "s = rng.binomial(n, p, 1000)\n",
    "# result of flipping a coin 10 times, tested 1000 times.\n"
   ]
  },
  {
   "cell_type": "markdown",
   "metadata": {},
   "source": [
    "Difference between normal and binomial distribution\n",
    "https://www.w3schools.com/python/numpy/numpy_random_binomial.asp"
   ]
  },
  {
   "cell_type": "code",
   "execution_count": 15,
   "metadata": {},
   "outputs": [
    {
     "data": {
      "image/png": "[encoded data removed]",
      "text/plain": [
       "<Figure size 360x360 with 1 Axes>"
      ]
     },
     "metadata": {},
     "output_type": "display_data"
    },
    {
     "data": {
      "image/png": "[encoded data removed]",
      "text/plain": [
       "<Figure size 360x360 with 1 Axes>"
      ]
     },
     "metadata": {},
     "output_type": "display_data"
    }
   ],
   "source": [
    "sns.displot(rng.normal(loc=50, scale=5, size=1000), label='normal')\n",
    "sns.displot(rng.binomial(n=100, p=0.5, size=1000), label='binomial')\n",
    "\n",
    "plt.show()\n"
   ]
  },
  {
   "cell_type": "markdown",
   "metadata": {},
   "source": [
    "\n",
    "### Poisson Distribution\n",
    "\n",
    "***\n",
    "\n",
    "It estimates how many times an event can happen in a specified time. e.g. If someone eats twice a day what is probability he will eat thrice?\n",
    "https://www.w3schools.com/python/numpy/numpy_random_poisson.asp\n",
    "\n",
    "It has two parameters:\n",
    "\n",
    "python ```lam``` - rate or known number of occurences e.g. 2 for above problem.\n",
    "\n",
    "python ```size``` - The shape of the returned array.\n",
    "Draw samples from a Poisson distribution.\n",
    "\n",
    "The Poisson distribution is the limit of the binomial distribution for large N.\n",
    "The Poisson distribution is used to describe discrete quantitative data such as counts in which the population size n is large, the probability of an individual event  is small, but the expected number of events, n, is moderate (say five or more). Typical examples are the number of deaths in a town from a particular disease per day, or the number of admissions to a particular hospital.\n",
    "\n",
    "https://www.ncbi.nlm.nih.gov/pmc/articles/PMC8266910/\n"
   ]
  },
  {
   "cell_type": "code",
   "execution_count": 15,
   "metadata": {},
   "outputs": [],
   "source": [
    "#Poisson Distribution \n",
    "# Examples\n",
    "\n",
    "#Draw samples from the distribution:\n",
    "\n",
    "import numpy as np\n",
    "rng = np.random.default_rng()\n",
    "s = rng.poisson(5, 10000)\n",
    "\n",
    "#Display histogram of the sample:\n",
    "sns.displot (rng.poisson (s), kde =False)\n",
    "\n",
    "#import matplotlib.pyplot as plt\n",
    "#count, bins, ignored = plt.hist(s, 14, density=True)\n",
    "plt.show()"
   ]
  },
  {
   "cell_type": "code",
   "execution_count": null,
   "metadata": {},
   "outputs": [],
   "source": [
    "#Draw each 100 values for lambda 100 and 500:\n",
    "\n",
    "s = rng.poisson(lam=(100., 500.), size=(100, 2))"
   ]
  },
  {
   "cell_type": "markdown",
   "metadata": {},
   "source": [
    "\n",
    "## Using seeds in generating pseudorandon numbers\n",
    "\n",
    "***\n",
    "Numpy's random module, a suite of functions based on pseudorandom number generation. Random means something that can not be predicted logically.\n",
    "The pseudorandom number works by starting with an integer called a seed and then generates numbers in succession. The same seed gives the same sequence of random numbers, hence the name \"pseudo\" random number generation. If you want to have reproducible code, it is good to seed the random number generator using the np.random.seed() function.\n",
    "\n",
    "To do the coin flips, you import NumPy, seed the random number generator, and then draw four random numbers. You can specify how many random numbers you want with the size keyword.\n",
    "\n",
    "In previous version of Numpy random (v1.15) the default random generator used the mersenne twister (MT19937) algorythm. This algorthym not perfect in terms of non-predictability. The MT19937 algorithm keeps track of its state in 624 32-bit values. If an attacker were able to gather 624 sequential values, then the entire sequence—forward and backward—could be reverse-engineered.\n",
    "\n",
    "In the latest update of Numpy.Random v1.19 The default bitgenerator is now the Permuted Congruential Generator 64 Bit (PCG64). The following website provides an at a glance comparision of the two types of algorythm - https://www.pcg-random.org/. PCG64 improves the statistical performance when random number generating and it is much more randon when compared to mersenne twist which makes it harder to predict its output and therefore more secure."
   ]
  },
  {
   "cell_type": "code",
   "execution_count": 2,
   "metadata": {},
   "outputs": [
    {
     "name": "stdout",
     "output_type": "stream",
     "text": [
      "50\n"
     ]
    }
   ],
   "source": [
    "import random\n",
    "for i in range(10):\n",
    "# Any number or integer value can be used instead of using '0'.\n",
    "  random.seed(0)\n",
    "# Generation of random values will be between 1 to 100.\n",
    "print(random.randint(1, 100))"
   ]
  },
  {
   "cell_type": "code",
   "execution_count": 3,
   "metadata": {},
   "outputs": [
    {
     "name": "stdout",
     "output_type": "stream",
     "text": [
      "2949\n"
     ]
    }
   ],
   "source": [
    "import random\n",
    "\n",
    "# print a random number between 1 and 1000.\n",
    "\n",
    "# the code is written in order to repeat the same random number multiple times\n",
    "random.seed(3)\n",
    "print(random.randint(1000, 8000))\n"
   ]
  },
  {
   "cell_type": "code",
   "execution_count": 4,
   "metadata": {},
   "outputs": [
    {
     "name": "stdout",
     "output_type": "stream",
     "text": [
      "5854\n"
     ]
    }
   ],
   "source": [
    "# If seed function is not used\n",
    "# The program is being used to generate unpridictible output and genrate totally random values\n",
    "print(random.randint(1000, 8000))"
   ]
  },
  {
   "cell_type": "markdown",
   "metadata": {},
   "source": [
    "\n",
    "### References\n",
    "\n",
    "***\n",
    "\n",
    "#### Introduction\n",
    "\n",
    "https://numpy.org/doc/stable/user/basics.creation.html\n",
    "\n",
    "https://www.w3schools.com/python/numpy/numpy_intro.asp\n",
    "\n",
    "https://numpy.org/doc/stable/reference/random/generated/numpy.random.Generator.integers.html\n",
    "\n",
    "https://www.pythonhealthdatascience.com/content/01_algorithms/03_numpy/06_sampling.html\n",
    "\n",
    "***\n",
    "\n",
    "#### Simple Random Data Functions\n",
    "\n",
    "https://www.tutorialspoint.com/generating-random-number-list-in-python\n",
    "\n",
    "https://numpy.org/doc/stable/reference/random/index.html\n",
    "\n",
    "https://www.w3schools.com/python/numpy/numpy_random.asp\n",
    "\n",
    "https://numpy.org/doc/stable/reference/random/generated/numpy.random.Generator.random.html\n",
    "\n",
    "\n",
    "\n",
    "***\n",
    "\n",
    "#### Distributions\n",
    "\n",
    "\n",
    "https://numpy.org/doc/stable/user/basics.creation.html\n",
    "\n",
    "https://www.datacamp.com/community/tutorials/probability-distributions-python\n",
    "\n",
    "https://www.javatpoint.com/numpy-random\n",
    "\n",
    "\n",
    "https://www.w3schools.com/python/numpy/numpy_random_distribution.asp\n",
    "\n",
    "***\n",
    "\n",
    "\n",
    "#### Seeds\n",
    "\n",
    "https://www.pcg-random.org/ \n",
    "\n",
    "https://www.datacamp.com/community/tutorials/numpy-random\n",
    "\n",
    "https://www.sciencedirect.com/topics/computer-science/mersenne-twister\n",
    "\n",
    "https://www.educba.com/numpy-random-seed/"
   ]
  }
 ],
 "metadata": {
  "kernelspec": {
   "display_name": "Python 3",
   "language": "python",
   "name": "python3"
  },
  "language_info": {
   "codemirror_mode": {
    "name": "ipython",
    "version": 3
   },
   "file_extension": ".py",
   "mimetype": "text/x-python",
   "name": "python",
   "nbconvert_exporter": "python",
   "pygments_lexer": "ipython3",
   "version": "3.8.8"
  }
 },
 "nbformat": 4,
 "nbformat_minor": 2
}
