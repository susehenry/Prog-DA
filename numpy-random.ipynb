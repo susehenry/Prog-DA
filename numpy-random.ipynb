{
 "cells": [
  {
   "attachments": {
    "NumPy_logo.svg.png": {
     "image/png": "[encoded data removed]"
    }
   },
   "cell_type": "markdown",
   "metadata": {},
   "source": [
    "![NumPy_logo.svg.png](attachment:NumPy_logo.svg.png)\n",
    "\n",
    "# __numpy.random package v1.19__\n",
    "\n",
    "***\n",
    "\n",
    "In this notebook I will be exploring the uses of the numpy.random package. It is a sub package of NumPy, NumPy is a python library used for working with arrays this package can create an enormous range of arrays and uses algorithms to analyse data up to 50 times faster than traditional python lists. \n",
    "The numpy.random package is used to generate simulated data which then can be used in an array to carry out analysis.\n",
    "\n",
    "What is an array?\n",
    "\n",
    "An array is a central data structure of the NumPy library. An array is a grid of values and it contains information about the raw data, how to locate an element, and how to interpret an element. NumPy arrays can be defined using Python sequences such as lists and tuples. A list of numbers will create a 1D array,a list of lists will create a 2D array, further nested lists will create higher-dimensional arrays.\n",
    "\n",
    "\n"
   ]
  },
  {
   "cell_type": "markdown",
   "metadata": {},
   "source": [
    "In this updated version of python v1.19 and higher versions when using the NumPy.Random Package for code we first need to implement a numpy.random.Generator. \n",
    "\n",
    "To create a Generator we use the default_rng() function\n",
    "\n",
    "```rng = np.random.default_rng()```\n",
    "\n",
    "This will return random integers from low (inclusive) to high (exclusive), or if endpoint=True, low (inclusive) to high (inclusive). \n",
    "\n",
    "NumPy also provides numpy.random.RandomState objects for sampling. RandomState is a legacy implementation included for backwards compatibility with older code. For new and updated code bases you should make use of numpy.random.Generator. You might also encountered code that samples directly from random for example np.random.randint(...). This is still using a RandomState object and should be avoided for newer code. It is important to note that lot’s of examples of code on the web will make use of RandomState.\n",
    "\n",
    "\n"
   ]
  },
  {
   "cell_type": "markdown",
   "metadata": {},
   "source": [
    "\n",
    "## Simple random data functions\n",
    "\n",
    "Below are examples of how to use the Numpy random package to generate random numbers, we will first see how to generate a single random number and then extend it to generate an array of random numbers.\n",
    "\n",
    "\n",
    "***\n",
    "### Integers function\n",
    "\n",
    "Returns random intergers from low (inclusive) to high (exclusive), or if endpoint=True, low (inclusive) to high (inclusive).\n",
    "\n",
    "\n",
    "\n"
   ]
  },
  {
   "cell_type": "code",
   "execution_count": 31,
   "metadata": {},
   "outputs": [
    {
     "name": "stdout",
     "output_type": "stream",
     "text": [
      "a 4\n",
      "i [30 80 67 ...  9 99 79]\n",
      "x [[72 10 57]\n",
      " [17 30 64]\n",
      " [40 13 41]\n",
      " [24 43 84]\n",
      " [24 36 91]]\n"
     ]
    }
   ],
   "source": [
    "import numpy as np\n",
    "import random\n",
    "rng = np.random.default_rng() #rng - random number generator\n",
    "\n",
    "#this will return one random integer between 0-5\n",
    "a = rng.integers (6)\n",
    "print ('a', a)\n",
    "\n",
    "#this will return 10000 random integers between 0-99\n",
    "i = rng.integers (100, size =10000)\n",
    "print (\"i\", i)\n",
    "\n",
    "#this will return 5 coloumns and 3 rows of random integers between the numbers 0 - 99\n",
    "x = rng.integers (100, size = (5  , 3))\n",
    "print (\"x\", x)"
   ]
  },
  {
   "cell_type": "code",
   "execution_count": 2,
   "metadata": {},
   "outputs": [
    {
     "name": "stdout",
     "output_type": "stream",
     "text": [
      "a1 [0 2 3 0 0 3 0 3 1 3]\n",
      "a2 [1 1 1 1 0 1 0 0 1 0]\n",
      "a3 [[1 3 0 0]\n",
      " [3 2 1 4]]\n",
      "a4 [2 4 9]\n",
      "a5 [9 9 7]\n",
      "a6 [[ 3  6  5  7]\n",
      " [18  9  5  9]]\n"
     ]
    }
   ],
   "source": [
    "#random intergers of different inputs \n",
    "#and the influence they have on the output values\n",
    "\n",
    "\n",
    "#will generate numbers from 0 up to but not including 4\n",
    "a1 = rng.integers(4, size=10)\n",
    "print ( 'a1', a1)\n",
    "\n",
    "\n",
    "\n",
    "#using endpoint =True will generate numbers including 1\n",
    "a2 = rng.integers(1, size=10, endpoint=True) \n",
    "print ('a2', a2)\n",
    "\n",
    "\n",
    "\n",
    "#generates a 2 x 4 array of intergers between 0 and 4, \n",
    "\n",
    "a3 = rng.integers(5, size=(2, 4))\n",
    "print ('a3', a3)\n",
    "\n",
    "\n",
    "\n",
    "#generates a 1 x 3 array with 3 different upper bounds\n",
    "\n",
    "a4 = rng.integers(1, [3, 5, 10])\n",
    "print ('a4', a4)\n",
    "\n",
    "\n",
    "#generates a 1 by 3 array with 3 different lower bounds\n",
    "\n",
    "a5 = rng.integers([1, 5, 7], 10)\n",
    "\n",
    "print ('a5', a5)\n",
    "\n",
    "\n",
    "\n",
    "#Generate a 2 by 4 array using broadcasting with dtype of uint8\n",
    "\n",
    "a6 = rng.integers([1, 3, 5, 7], [[10], [20]], dtype=np.uint8)\n",
    "print ('a6', a6)\n",
    "\n"
   ]
  },
  {
   "cell_type": "markdown",
   "metadata": {},
   "source": [
    "\n",
    "### Random \n",
    "\n",
    "***\n",
    "\n",
    " \n",
    "This function returns a random float between 0.0 and 1.0, single float or array of floats can be returned.\n",
    "If the given shape is, e.g., (m, n, k), then m * n * k samples are drawn. Default is None, in which case a single value is returned.\n",
    "\n",
    "\n",
    "\n"
   ]
  },
  {
   "cell_type": "code",
   "execution_count": 3,
   "metadata": {},
   "outputs": [
    {
     "name": "stdout",
     "output_type": "stream",
     "text": [
      "dft 0.551320981754393\n",
      "arr [[[0.39543056 0.28217096]\n",
      "  [0.03391007 0.06757423]]\n",
      "\n",
      " [[0.866592   0.39093937]\n",
      "  [0.05197168 0.27001271]]\n",
      "\n",
      " [[0.32000458 0.81255891]\n",
      "  [0.4379896  0.56068136]]\n",
      "\n",
      " [[0.7152086  0.60711161]\n",
      "  [0.9164787  0.52538116]]\n",
      "\n",
      " [[0.84094863 0.32424875]\n",
      "  [0.12875356 0.51372636]]]\n"
     ]
    }
   ],
   "source": [
    "#Example of default, single value is returned\n",
    "rng = np.random.default_rng() # no value entered\n",
    "dft = rng.random()\n",
    "print ('dft', dft)\n",
    "\n",
    "\n",
    "#Example of array\n",
    "arr = rng.random((5,2,2))\n",
    "print ('arr', arr)\n"
   ]
  },
  {
   "cell_type": "code",
   "execution_count": 4,
   "metadata": {},
   "outputs": [
    {
     "data": {
      "text/plain": [
       "array([[-2.40225993, -0.5534353 , -2.87056282],\n",
       "       [-0.85751848,  0.67269425, -1.54731379]])"
      ]
     },
     "execution_count": 4,
     "metadata": {},
     "output_type": "execute_result"
    }
   ],
   "source": [
    "# Example 5 * random float in a two by three array of random numbers from (-3, 0):\n",
    "\n",
    "5 * rng.random ((2,3)) -3\n"
   ]
  },
  {
   "cell_type": "markdown",
   "metadata": {},
   "source": [
    "\n",
    "### Choice \n",
    "\n",
    "***\n",
    "The choice method allows you to generate a random value based on an array of values.\n",
    "The choice method takes an array as a parameter and randomly returns one of the values.\n",
    "Return one of the values in an array:"
   ]
  },
  {
   "cell_type": "code",
   "execution_count": 5,
   "metadata": {},
   "outputs": [
    {
     "data": {
      "text/plain": [
       "5"
      ]
     },
     "execution_count": 5,
     "metadata": {},
     "output_type": "execute_result"
    }
   ],
   "source": [
    "\n",
    "#Example return one of the values in the array\n",
    "from numpy import random\n",
    "rng = np.random.default_rng()\n",
    "\n",
    "rng.choice([3, 5, 7, 9])\n",
    "\n"
   ]
  },
  {
   "cell_type": "markdown",
   "metadata": {},
   "source": [
    "The choice method also allows you to return an array of values from the array parameter.\n",
    " "
   ]
  },
  {
   "cell_type": "code",
   "execution_count": 6,
   "metadata": {},
   "outputs": [
    {
     "data": {
      "text/plain": [
       "array([[7, 1, 9, 1, 1, 4],\n",
       "       [7, 4, 4, 7, 1, 9],\n",
       "       [9, 9, 7, 7, 1, 4],\n",
       "       [9, 4, 1, 7, 1, 9],\n",
       "       [4, 4, 7, 4, 9, 1]])"
      ]
     },
     "execution_count": 6,
     "metadata": {},
     "output_type": "execute_result"
    }
   ],
   "source": [
    "#Example of 2-D array size set to generate 5 rows\n",
    "# Each row generates 6 values from the array parameter (1, 4, 7, and 9):\n",
    "\n",
    "rng = np.random.default_rng()\n",
    "\n",
    "rng.choice([1, 4, 7, 9], size=(5,6)) \n",
    " "
   ]
  },
  {
   "cell_type": "markdown",
   "metadata": {},
   "source": [
    "\n",
    "### Choice and probabaility density function \n",
    "\n",
    "This function describes the probability of all values in an array.The choice method allows us to specify the probability for each value.\n",
    "The probability is set by a number between 0 and 1, where 0 means that the value will never occur and 1 means that the value will always occur. \n",
    "\n",
    "In the below example - \n",
    "\n",
    "The probability for the value to be 2 is set to be 0.2\n",
    "\n",
    "The probability for the value to be 5 is set to be 0.3\n",
    "\n",
    "The probability for the value to be 7 is set to be 0.5\n",
    "\n",
    "The probability for the value to be 9 is set to be 0\n",
    "\n",
    "The sum of all probability numbers should be 1.\n",
    "\n",
    "\n",
    "\n",
    "\n",
    "\n"
   ]
  },
  {
   "cell_type": "code",
   "execution_count": 7,
   "metadata": {},
   "outputs": [
    {
     "data": {
      "text/plain": [
       "array([5, 7, 5, 7, 7, 7, 7, 7, 2, 2, 5, 5, 5, 5, 7, 7, 7, 7, 5, 7, 7, 2,\n",
       "       7, 7, 7, 5, 7, 2, 7, 7, 5, 2, 5, 7, 7, 5, 7, 7, 7, 7, 7, 5, 7, 7,\n",
       "       7, 7, 5, 7, 7, 2, 7, 7, 7, 5, 2, 7, 5, 7, 7, 2, 7, 7, 7, 7, 7, 7,\n",
       "       5, 7, 2, 2, 7, 5, 5, 7, 7, 7, 7, 5, 5, 5, 7, 7, 7, 7, 7, 7, 5, 7,\n",
       "       7, 2, 7, 7, 5, 7, 7, 5, 7, 7, 7, 7])"
      ]
     },
     "execution_count": 7,
     "metadata": {},
     "output_type": "execute_result"
    }
   ],
   "source": [
    "#example choice and probabilty density function\n",
    "#As the example below shows 9 will never occur in the output\n",
    "\n",
    "from numpy import random\n",
    "rng = np.random.default_rng()\n",
    "\n",
    "rng.choice([2, 5, 7, 9], p=[0.2, 0.3, 0.5, 0.0], size=(100))\n"
   ]
  },
  {
   "cell_type": "code",
   "execution_count": 8,
   "metadata": {},
   "outputs": [
    {
     "data": {
      "text/plain": [
       "array([[7, 5, 7, 5, 7],\n",
       "       [5, 7, 5, 3, 5],\n",
       "       [5, 7, 7, 7, 7]])"
      ]
     },
     "execution_count": 8,
     "metadata": {},
     "output_type": "execute_result"
    }
   ],
   "source": [
    "#choice also allows you to return arrays of any shape and size by specifing the shape in the size parameter\n",
    "#below example shows the return of a 2-D array with 3 rows each containing 5 values\n",
    "\n",
    "from numpy import random\n",
    "rng = np.random.default_rng()\n",
    "\n",
    "rng.choice([3, 5, 7, 9], p=[0.1, 0.3, 0.6, 0.0], size=(3, 5))\n",
    "\n"
   ]
  },
  {
   "cell_type": "markdown",
   "metadata": {},
   "source": [
    "\n",
    "### Bytes\n",
    "\n",
    "Random bytes is used to create a string with a specified number of bytes.\n"
   ]
  },
  {
   "cell_type": "code",
   "execution_count": 9,
   "metadata": {},
   "outputs": [
    {
     "data": {
      "text/plain": [
       "b'Eu\\xdd`\\xbcF&\\xdb@\\xb3'"
      ]
     },
     "execution_count": 9,
     "metadata": {},
     "output_type": "execute_result"
    }
   ],
   "source": [
    "#Example\n",
    " \n",
    "np.random.default_rng().bytes(10)\n"
   ]
  },
  {
   "cell_type": "markdown",
   "metadata": {},
   "source": [
    "\n",
    "### Permutations functions - grouping values were the order of values matter\n",
    "\n",
    "***\n",
    "There are the following functions of permutations:\n",
    "\n",
    "```rng.permutation()```\n",
    "\n",
    "This function genrates a random sequence from a given range of integers.\n",
    "\n",
    "```rng.random.permuted () ```\n",
    "\n",
    "This function randomly permutes integers from an array along axis axis. It is different to shuffle as each slice along the given axis is shuffled independently along the x axis\n",
    "\n",
    "```rng.random.shuffle()```\n",
    "\n",
    "This function is used for modifying a sequence in-place by shuffling its contents, e.g shuffling cards"
   ]
  },
  {
   "cell_type": "code",
   "execution_count": 32,
   "metadata": {},
   "outputs": [
    {
     "data": {
      "text/plain": [
       "array([ 5, 11,  6,  9, 13,  3,  0,  7, 10,  1, 12,  4,  2,  8])"
      ]
     },
     "execution_count": 32,
     "metadata": {},
     "output_type": "execute_result"
    }
   ],
   "source": [
    " \n",
    "#Example generate a random permutation of the integers from 1 to 14\n",
    "\n",
    "rng = np.random.default_rng()\n",
    "\n",
    "a=rng.permutation(14)  \n",
    "a  "
   ]
  },
  {
   "cell_type": "code",
   "execution_count": 33,
   "metadata": {},
   "outputs": [
    {
     "data": {
      "text/plain": [
       "array([[ 0,  1,  2,  3,  4,  5,  6,  7,  8,  9],\n",
       "       [10, 11, 12, 13, 14, 15, 16, 17, 18, 19],\n",
       "       [20, 21, 22, 23, 24, 25, 26, 27, 28, 29]])"
      ]
     },
     "execution_count": 33,
     "metadata": {},
     "output_type": "execute_result"
    }
   ],
   "source": [
    "# Create test array to use with permuted function\n",
    "rng = np.random.default_rng()\n",
    "\n",
    "x = np.arange(30).reshape(3, 10)\n",
    "x\n"
   ]
  },
  {
   "cell_type": "code",
   "execution_count": 34,
   "metadata": {},
   "outputs": [
    {
     "data": {
      "text/plain": [
       "array([[ 8,  9,  1,  0,  4,  2,  5,  6,  3,  7],\n",
       "       [14, 13, 16, 18, 17, 15, 10, 19, 12, 11],\n",
       "       [28, 23, 24, 26, 20, 22, 21, 29, 25, 27]])"
      ]
     },
     "execution_count": 34,
     "metadata": {},
     "output_type": "execute_result"
    }
   ],
   "source": [
    "#Example of using permuted function with test array\n",
    "y = rng.permuted(x, axis=1)\n",
    "y"
   ]
  },
  {
   "cell_type": "code",
   "execution_count": 35,
   "metadata": {},
   "outputs": [
    {
     "data": {
      "text/plain": [
       "array([10, 13, 22,  7,  6,  3,  0, 14, 16, 17,  2, 20, 21,  9, 12, 23, 11,\n",
       "        5,  4, 15,  1,  8, 19, 18])"
      ]
     },
     "execution_count": 35,
     "metadata": {},
     "output_type": "execute_result"
    }
   ],
   "source": [
    "#Example of using shuffle \n",
    "\n",
    "\n",
    "a=np.arange(24)  \n",
    "a  \n",
    "rng.shuffle(a)  \n",
    "a  "
   ]
  },
  {
   "attachments": {
    "Distributional%20Choices.jpg": {
     "image/jpeg": "[encoded data removed]"
    }
   },
   "cell_type": "markdown",
   "metadata": {},
   "source": [
    "\n",
    "## Distributions function\n",
    "\n",
    "***\n",
    "\n",
    "The numpy.random package provides a variety of distributions that you can use for efficient sampling. There are numerous choices when it comes to choosing a distribution for data, when choosing the best distribution function there are four things to consider. Firstly can the data take discrete values e.g result of rolling a dice or is the data is continuous e.g daily measurement of wind speed. Second the symmetry of the data should be considered, if it is not symetrical what direction does it go in are there positive or negative outliers. The third consideration is whether there are upper or lower limits on the data. Lastly it should be considered what is the likelihood of observing extreme values in the distribution. The below diagram gives a good overview of distributional choices for data analysis.\n",
    "\n",
    "![Distributional%20Choices.jpg](attachment:Distributional%20Choices.jpg)\n"
   ]
  },
  {
   "cell_type": "code",
   "execution_count": 59,
   "metadata": {},
   "outputs": [],
   "source": [
    "# to display plots of distribution functions\n",
    "\n",
    "import matplotlib.pyplot as plt # used to create distribution plots\n",
    "import seaborn as sns  # used to visualize random distributions\n",
    "sns.set (color_codes=True) # settings for seaborn plotting style\n",
    "sns.set (rc={'figure.figsize':(5,5)}) # settings for seaborn plot sizes\n"
   ]
  },
  {
   "cell_type": "markdown",
   "metadata": {},
   "source": [
    "\n",
    "### Uniform Distribution\n",
    "\n",
    "***\n",
    "Uniform distribution is used where any value within the given interval is equally likely to be drawn by uniform, for example rolling a die each number has an equal chance of occuring.\n",
    "\n"
   ]
  },
  {
   "cell_type": "code",
   "execution_count": 60,
   "metadata": {},
   "outputs": [
    {
     "data": {
      "image/png": "[encoded data removed]",
      "text/plain": [
       "<Figure size 360x360 with 1 Axes>"
      ]
     },
     "metadata": {},
     "output_type": "display_data"
    }
   ],
   "source": [
    "#Show uniform distribution of random integers in histogram plot\n",
    "\n",
    "s = np.random.default_rng().uniform(1,6, 100000)\n",
    "\n",
    "\n",
    "sns.displot (s, kde = False)\n",
    "\n",
    "\n",
    "plt.title ('Uniform Distribution')\n",
    "\n",
    "\n",
    "plt.show()\n"
   ]
  },
  {
   "cell_type": "markdown",
   "metadata": {},
   "source": [
    "Exponential Distribution\n",
    "\n",
    "***\n",
    "\n",
    "Exponential distribution should be used if there are no negative outliers in the data and the only positive outliers.\n",
    "\n",
    "\n",
    "   "
   ]
  },
  {
   "cell_type": "code",
   "execution_count": 66,
   "metadata": {},
   "outputs": [],
   "source": [
    "\n",
    "#rng = np.random.default_rng()\n",
    "\n",
    "#s = rng.exponential (scale=2, size=(2,3))\n",
    "#print (s)"
   ]
  },
  {
   "cell_type": "code",
   "execution_count": 69,
   "metadata": {},
   "outputs": [
    {
     "data": {
      "image/png": "[encoded data removed]",
      "text/plain": [
       "<Figure size 360x360 with 1 Axes>"
      ]
     },
     "metadata": {},
     "output_type": "display_data"
    }
   ],
   "source": [
    "sns.displot(rng.exponential(scale=2, size=1000), kde=True, color = 'r')\n",
    "\n",
    "plt.title ('exponential distribution')\n",
    "plt.show()"
   ]
  },
  {
   "cell_type": "markdown",
   "metadata": {},
   "source": [
    "\n",
    "### Normal Distribution\n",
    "\n",
    "***\n",
    "\n",
    "\n",
    "The probability density function of the normal distribution, is often called the bell curve because of its characteristic shape.\n",
    "\n",
    "The normal distributions occurs often in nature. For example, it describes the commonly occurring distribution of samples influenced by a large number of tiny, random disturbances, each with its own unique distribution\n",
    "\n",
    "It is often the case with medical data that the histogram of a continuous variable obtained from a single measurement on different subjects will have a characteristic 'bell-shaped' distribution known as a Normal distribution. The below example is the histogram of the birth weight (in kilograms) of the 3,226 new born babies. "
   ]
  },
  {
   "cell_type": "code",
   "execution_count": 83,
   "metadata": {},
   "outputs": [
    {
     "data": {
      "image/png": "[encoded data removed]",
      "text/plain": [
       "<Figure size 360x360 with 1 Axes>"
      ]
     },
     "metadata": {},
     "output_type": "display_data"
    }
   ],
   "source": [
    "#Distribution of birth weights \n",
    "#seed with the mean weight 3.39kg\n",
    "#standard deviation 0.55kg\n",
    "\n",
    "mu, sigma = 3.39, 0.55 # mean and standard deviation\n",
    "s = np.random.default_rng().normal(mu, sigma, 3226) #3,226 new born babies\n",
    "sns.displot (s, kde=True)\n",
    "\n",
    "plt.show()\n"
   ]
  },
  {
   "cell_type": "markdown",
   "metadata": {},
   "source": [
    "\n",
    "### Binomial Distribution\n",
    "\n",
    "***\n",
    "Binomial distribution describes the outcome of binary scenarios, e.g. toss of a coin, it will either be head or tails.\n",
    "it has three parameters \n",
    "python ```n```\n",
    "python``` p```\n",
    "python ``` size```\n",
    "Binomial distribution gives the probability of getting r events out of n trials.\n",
    "When estimating the standard error of a proportion in a population by using a random sample, the normal distribution works well unless the product p*n <=5, where p = population proportion estimate, and n = number of samples, in which case the binomial distribution is used instead. For example, a sample of 15 people shows 4 who are left handed, and 11 who are right handed. Then p = 4/15 = 27%. 0.27*15 = 4, so the binomial distribution should be used in this case.\n",
    "\n",
    "\n"
   ]
  },
  {
   "cell_type": "code",
   "execution_count": 93,
   "metadata": {},
   "outputs": [
    {
     "data": {
      "text/plain": [
       "<function matplotlib.pyplot.show(close=None, block=None)>"
      ]
     },
     "execution_count": 93,
     "metadata": {},
     "output_type": "execute_result"
    },
    {
     "data": {
      "image/png": "[encoded data removed]",
      "text/plain": [
       "<Figure size 360x360 with 1 Axes>"
      ]
     },
     "metadata": {},
     "output_type": "display_data"
    }
   ],
   "source": [
    "#Binomial Distribution\n",
    "\n",
    "rng = np.random.default_rng()\n",
    "n, p = 15, .27  # number of people, probability of left handed\n",
    "s = rng.binomial(n, p, 1000) #tested 1000 times.\n",
    "\n",
    "sns.displot (s, kde=True,color = 'blue')\n",
    "plt.xlabel('Binomial')\n",
    "plt.ylabel('Frequency')\n",
    "plt.title ('Binomial Distribution')\n",
    "\n",
    "plt.show\n"
   ]
  },
  {
   "cell_type": "markdown",
   "metadata": {},
   "source": [
    "\n",
    "### Poisson Distribution\n",
    "\n",
    "***\n",
    "\n",
    "Poisson distribution estimates how many times an event can happen in a specified time. \n",
    "\n",
    "\n",
    "It has two parameters:\n",
    "\n",
    "python ```lam``` - rate or known number of occurences e.g. 2 for above example\n",
    "\n",
    "python ```size``` - The shape of the returned array.\n",
    "\n",
    "The Poisson distribution is the limit of the binomial distribution for large N.\n",
    "The Poisson distribution is used to describe discrete quantitative data such as counts in which the population size n is large, the probability of an individual event  is small, but the expected number of events, n, is moderate (say five or more). Typical examples are the number of deaths in a town from a particular disease per day, or the number of admissions to a particular hospital.\n",
    "\n",
    "\n"
   ]
  },
  {
   "cell_type": "code",
   "execution_count": 134,
   "metadata": {},
   "outputs": [
    {
     "data": {
      "image/png": "[encoded data removed]",
      "text/plain": [
       "<Figure size 360x360 with 1 Axes>"
      ]
     },
     "metadata": {},
     "output_type": "display_data"
    }
   ],
   "source": [
    "#Poisson Distribution \n",
    "\n",
    "rng = np.random.default_rng()\n",
    "s = rng.poisson(5, 10000)\n",
    "\n",
    "#Display histogram of the sample:\n",
    "sns.displot (rng.poisson (s), kde =True)\n",
    "\n",
    "plt.title ('Poisson Distribution')\n",
    "plt.xlabel ('Number of admissions')\n",
    "plt.ylabel ('Number of hours')\n",
    "plt.show()"
   ]
  },
  {
   "attachments": {},
   "cell_type": "markdown",
   "metadata": {},
   "source": [
    "\n",
    "## Using seeds in generating pseudorandon numbers\n",
    "\n",
    "***\n",
    "\n",
    "The pseudorandom random number generator works by starting with an integer called a seed and then generates numbers in succession. The same seed gives the same sequence of random numbers, hence the name \"pseudo\" random number generation. If you want to have reproducible code, it is good to seed the random number generator function.\n",
    "\n",
    "To do the coin flips, you import NumPy, seed the random number generator, and then draw four random numbers. You can specify how many random numbers you want with the size keyword.\n",
    "\n",
    "In previous version of Numpy random (v1.15) the default random generator used the mersenne twister (MT19937) algorythm. This algorthym is not perfect in terms of non-predictability. The MT19937 algorithm keeps track of its state in 624 32-bit values. If an attacker were able to gather 624 sequential values, then the entire sequence—forward and backward—could be reverse-engineered.\n",
    "\n",
    "In the latest update of Numpy.Random v1.19 The default bitgenerator is now the Permuted Congruential Generator 64 Bit (PCG64). PCG64 improves the statistical performance when random number generating and it is much more random when compared to mersenne twist which makes it harder to predict its output and therefore more secure."
   ]
  },
  {
   "cell_type": "code",
   "execution_count": 135,
   "metadata": {},
   "outputs": [
    {
     "data": {
      "text/plain": [
       "array([0.95600171, 0.20768181, 0.82844489, 0.14928212, 0.51280462])"
      ]
     },
     "execution_count": 135,
     "metadata": {},
     "output_type": "execute_result"
    }
   ],
   "source": [
    "# seed the rng\n",
    "seed = 10\n",
    "rng = np.random.default_rng(seed)  \n",
    "rng.random(size=5)"
   ]
  },
  {
   "cell_type": "code",
   "execution_count": 136,
   "metadata": {},
   "outputs": [
    {
     "data": {
      "text/plain": [
       "array([0.95600171, 0.20768181, 0.82844489, 0.14928212, 0.51280462])"
      ]
     },
     "execution_count": 136,
     "metadata": {},
     "output_type": "execute_result"
    }
   ],
   "source": [
    "# re-seed the rng with the same number\n",
    "seed = 10\n",
    "rng = np.random.default_rng(seed)  \n",
    "rng.random(size=5) #same sequence of numbers will be produced\n"
   ]
  },
  {
   "cell_type": "code",
   "execution_count": 137,
   "metadata": {},
   "outputs": [
    {
     "data": {
      "text/plain": [
       "array([0.74330643, 0.19439369, 0.52516965, 0.74180407, 0.91179142])"
      ]
     },
     "execution_count": 137,
     "metadata": {},
     "output_type": "execute_result"
    }
   ],
   "source": [
    "# If seed function is not used\n",
    "# The program is being used to generate unpredictible output and genrate totally random values\n",
    "rng = np.random.default_rng() \n",
    "rng.random (size=5)"
   ]
  },
  {
   "cell_type": "code",
   "execution_count": 138,
   "metadata": {},
   "outputs": [
    {
     "data": {
      "text/plain": [
       "array([0.32566071, 0.8674007 , 0.34132015, 0.84551014, 0.88393123])"
      ]
     },
     "execution_count": 138,
     "metadata": {},
     "output_type": "execute_result"
    }
   ],
   "source": [
    "rng = np.random.default_rng() \n",
    "rng.random (size=5) # different sequence of numbers is produced"
   ]
  },
  {
   "cell_type": "markdown",
   "metadata": {},
   "source": [
    "### Conclusion\n",
    "\n",
    "The numpy random package allows users to quickly and efficently generate  random data various forms from single intergers to multidimensional arrays. These can be used for calculations, modelling and distribution functions. Reproducable code which is important for research can also be produce by using a seed number in the puesdo random number generator. Lastly it is important to be aware of different versions of the package as it numpy random has recently been updated which has changed some of the functionality and therefore some changes to code have also been made."
   ]
  },
  {
   "cell_type": "markdown",
   "metadata": {},
   "source": [
    "\n",
    "### References\n",
    "\n",
    "***\n",
    "\n",
    "#### Introduction\n",
    "\n",
    "https://numpy.org/doc/stable/user/basics.creation.html\n",
    "\n",
    "https://www.w3schools.com/python/numpy/numpy_intro.asp\n",
    "\n",
    "https://numpy.org/doc/stable/reference/random/generated/numpy.random.Generator.integers.html\n",
    "\n",
    "https://www.pythonhealthdatascience.com/content/01_algorithms/03_numpy/06_sampling.html\n",
    "\n",
    "***\n",
    "\n",
    "#### Simple Random Data Functions\n",
    "\n",
    "https://www.tutorialspoint.com/generating-random-number-list-in-python\n",
    "\n",
    "https://numpy.org/doc/stable/reference/random/index.html\n",
    "\n",
    "https://www.w3schools.com/python/numpy/numpy_random.asp\n",
    "\n",
    "https://numpy.org/doc/stable/reference/random/generated/numpy.random.Generator.random.html\n",
    "\n",
    "\n",
    "\n",
    "***\n",
    "\n",
    "#### Distributions\n",
    "\n",
    "http://people.stern.nyu.edu/adamodar/New_Home_Page/StatFile/statdistns.ht\n",
    "\n",
    "https://numpy.org/doc/stable/user/basics.creation.html\n",
    "\n",
    "https://numpy.org/doc/stable/reference/random/generated/numpy.random.Generator.uniform.html\n",
    "\n",
    "https://www.datacamp.com/community/tutorials/probability-distributions-python\n",
    "\n",
    "https://www.javatpoint.com/numpy-random\n",
    "\n",
    "https://www.healthknowledge.org.uk/public-health-textbook/research-methods/1b-statistical-methods/statistical-distributions\n",
    "\n",
    "https://www.w3schools.com/python/numpy/numpy_random_binomial.asp\n",
    "\n",
    "https://numpy.org/doc/stable/reference/random/generated/numpy.random.Generator.binomial.html\n",
    "\n",
    "https://www.w3schools.com/python/numpy/numpy_random_poisson.asp\n",
    "\n",
    "https://www.w3schools.com/python/numpy/numpy_random_distribution.asp\n",
    "\n",
    "https://www.ncbi.nlm.nih.gov/pmc/articles/PMC8266910/\n",
    "\n",
    "***\n",
    "\n",
    "\n",
    "#### Seeds\n",
    "\n",
    "https://www.pcg-random.org/ \n",
    "\n",
    "https://www.datacamp.com/community/tutorials/numpy-random\n",
    "\n",
    "https://www.sciencedirect.com/topics/computer-science/mersenne-twister\n",
    "\n",
    "https://www.educba.com/numpy-random-seed/"
   ]
  },
  {
   "cell_type": "code",
   "execution_count": null,
   "metadata": {},
   "outputs": [],
   "source": []
  }
 ],
 "metadata": {
  "kernelspec": {
   "display_name": "Python 3",
   "language": "python",
   "name": "python3"
  },
  "language_info": {
   "codemirror_mode": {
    "name": "ipython",
    "version": 3
   },
   "file_extension": ".py",
   "mimetype": "text/x-python",
   "name": "python",
   "nbconvert_exporter": "python",
   "pygments_lexer": "ipython3",
   "version": "3.8.8"
  }
 },
 "nbformat": 4,
 "nbformat_minor": 2
}
