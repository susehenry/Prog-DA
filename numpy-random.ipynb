{
 "cells": [
  {
   "cell_type": "markdown",
   "id": "4a08a755",
   "metadata": {},
   "source": [
    "\n",
    "# Numpy Random Package\n",
    "\n",
    "___\n"
   ]
  },
  {
   "cell_type": "markdown",
   "metadata": {},
   "source": [
    "\n",
    "\n",
    "numpy.random package v1.19\n",
    "\n",
    "***\n",
    "\n",
    "In this assignment I will be explaining the uses of the numpy.random package. It is a sub package of numpy, numpy can create multi dimensonal arrays and uses algorithms to quickly analyse data. NumPy gives you an enormous range of fast and efficient ways of creating arrays and manipulating numerical data inside them.\n",
    "The numpy.random package is used to generate simulated data which then can be used in an array to carry out analysis.\n",
    "\n",
    "What is an array\n",
    "An array is a central data structure of the NumPy library. An array is a grid of values and it contains information about the raw data, how to locate an element, and how to interpret an element. NumPy arrays can be defined using Python sequences such as lists and tuples. Lists and tuples are defined using [...] and (...), respectively. a list of numbers will create a 1D array,a list of lists will create a 2D array,\n",
    "\n",
    "further nested lists will create higher-dimensional arrays\n",
    "\n",
    "ref:https://numpy.org/doc/stable/user/basics.creation.html"
   ]
  },
  {
   "cell_type": "markdown",
   "metadata": {},
   "source": [
    "<br>\n",
    "Simple random data functions\n",
    "\n",
    "***\n",
    "\n",
    "There are four simple random data functions\n",
    "- integers (low[, high, size, dtype, endpoint])\n",
    "- Random ([size, dtype, out])\n",
    "- Choice \n",
    "- Bytes\n"
   ]
  },
  {
   "cell_type": "markdown",
   "metadata": {},
   "source": [
    "random.Generator.integers(low, high=None, size=None, dtype=np.int64, endpoint=False)\n",
    "Return random integers from low (inclusive) to high (exclusive), or if endpoint=True, low (inclusive) to high (inclusive). Replaces RandomState.randint (with endpoint=False) and RandomState.random_integers (with endpoint=True)\n",
    "\n",
    "https://numpy.org/doc/stable/reference/random/generated/numpy.random.Generator.integers.html\n"
   ]
  },
  {
   "cell_type": "code",
   "execution_count": 5,
   "metadata": {},
   "outputs": [
    {
     "name": "stdout",
     "output_type": "stream",
     "text": [
      "6\n"
     ]
    }
   ],
   "source": [
    "\n",
    "#Examples\n",
    "import numpy as np\n",
    "import random\n",
    "rng = np.random.default_rng()\n",
    "\n",
    "#1\n",
    "rng.integers(2, size=10)\n",
    "array([1, 0, 0, 0, 1, 1, 0, 0, 1, 0])  # random\n",
    "\n",
    "\n",
    "rng.integers(1, size=10)\n",
    "array([0, 0, 0, 0, 0, 0, 0, 0, 0, 0])\n",
    "\n",
    "\n",
    "#2Generate a 2 x 4 array of ints between 0 and 4, inclusive:\n",
    "\n",
    "rng.integers(5, size=(2, 4))\n",
    "array([[4, 0, 2, 1],\n",
    "       [3, 2, 2, 0]])  # random\n",
    "\n",
    "\n",
    "#Generate a 1 x 3 array with 3 different upper bounds\n",
    "\n",
    "rng.integers(1, [3, 5, 10])\n",
    "array([2, 2, 9])  # random\n",
    "\n",
    "\n",
    "#Generate a 1 by 3 array with 3 different lower bounds\n",
    "\n",
    "rng.integers([1, 5, 7], 10)\n",
    "array([9, 8, 7])  # random\n",
    "\n",
    "\n",
    "#Generate a 2 by 4 array using broadcasting with dtype of uint8\n",
    "\n",
    "rng.integers([1, 3, 5, 7], [[10], [20]], dtype=np.uint8)\n",
    "array([[ 8,  6,  9,  7],\n",
    "       [ 1, 16,  9, 12]], dtype=uint8)  # random\n"
   ]
  },
  {
   "cell_type": "code",
   "execution_count": 2,
   "metadata": {},
   "outputs": [
    {
     "name": "stdout",
     "output_type": "stream",
     "text": [
      "i [67 38 32 ... 52 93 73]\n",
      "x [[99 98 24]\n",
      " [19 91 67]\n",
      " [32  6 69]\n",
      " [10 29 37]\n",
      " [41 45 33]]\n"
     ]
    }
   ],
   "source": [
    "# Integers - returns random integers\n",
    "\n",
    "#this will return one random integer between 0-5\n",
    "rng.integers (6)\n",
    "\n",
    "#this will return 10000 random integers between 0-99\n",
    "i = rng.integers (100, size =10000)\n",
    "print (\"i\", i)\n",
    "#this will return 5 coloumns and 3 rows of random integers between the numbers 0 - 99\n",
    "x = rng.integers (100, size = (5  , 3))\n",
    "print (\"x\", x)"
   ]
  },
  {
   "cell_type": "markdown",
   "metadata": {},
   "source": [
    "random.Generator.random(size=None, dtype=np.float64, out=None) \n",
    "Return random floats in the half-open interval [0.0, 1.0).\n",
    "Results are from the “continuous uniform” distribution over the stated interval\n",
    "Parameters\n",
    "sizeint or tuple of ints, optional\n",
    "Output shape. If the given shape is, e.g., (m, n, k), then m * n * k samples are drawn. Default is None, in which case a single value is returned.\n",
    "\n",
    "dtypedtype, optional\n",
    "Desired dtype of the result, only float64 and float32 are supported. Byteorder must be native. The default value is np.float64.\n",
    "\n",
    "outndarray, optional\n",
    "Alternative output array in which to place the result. If size is not None, it must have the same shape as the provided size and must match the type of the output values.\n",
    "\n",
    "Returns\n",
    "outfloat or ndarray of floats\n",
    "Array of random floats of shape size (unless size=None, in which case a single float is returned).\n",
    "\n",
    "https://numpy.org/doc/stable/reference/random/generated/numpy.random.Generator.random.html"
   ]
  },
  {
   "cell_type": "code",
   "execution_count": 3,
   "metadata": {},
   "outputs": [],
   "source": [
    "#Example\n",
    "rng = np.random.default_rng()\n",
    "rng.random()\n",
    "0.47108547995356098 # random\n",
    "type(rng.random())\n",
    "<class 'float'>\n",
    "rng.random((5,))\n",
    "array([ 0.30220482,  0.86820401,  0.1654503 ,  0.11659149,  0.54323428]) # random"
   ]
  },
  {
   "cell_type": "code",
   "execution_count": null,
   "metadata": {},
   "outputs": [],
   "source": [
    "# Example\n",
    "# Three-by-two array of random numbers from [-5, 0):\n",
    "\n",
    "5 * rng.random((3, 2)) - 5\n",
    "array([[-3.99149989, -0.52338984], # random\n",
    "       [-2.99091858, -0.79479508],\n",
    "       [-1.23204345, -1.75224494]])"
   ]
  },
  {
   "cell_type": "markdown",
   "metadata": {},
   "source": [
    "\n",
    "Choice - random.Generator.choice(a, size=None, replace=True, p=None, axis=0, shuffle=True)¶\n",
    "\n",
    "***\n",
    "The choice() method allows you to generate a random value based on an array of values.\n",
    "The choice() method takes an array as a parameter and randomly returns one of the values.\n",
    "Return one of the values in an array:"
   ]
  },
  {
   "cell_type": "code",
   "execution_count": 8,
   "metadata": {},
   "outputs": [
    {
     "data": {
      "text/plain": [
       "7"
      ]
     },
     "execution_count": 8,
     "metadata": {},
     "output_type": "execute_result"
    }
   ],
   "source": [
    "\n",
    "#Example return one of the values in the array\n",
    "from numpy import random\n",
    "rng = np.random.default_rng()\n",
    "\n",
    "rng.choice([3, 5, 7, 9])\n",
    "\n"
   ]
  },
  {
   "cell_type": "markdown",
   "metadata": {},
   "source": [
    "The choice() method also allows you to return an array of values.\n",
    "\n",
    "This can be achieved by adding a size parameter to specify the shape of the array.\n",
    "size{int, tuple[int]}, optional\n",
    "Output shape. If the given shape is, e.g., (m, n, k), then m * n * k samples are drawn from the 1-d a. If a has more than one dimension, the size shape will be inserted into the axis dimension, so the output ndim will be a.ndim - 1 + len(size). Default is None, in which case a single value is returned.\n",
    "\n",
    " "
   ]
  },
  {
   "cell_type": "code",
   "execution_count": 9,
   "metadata": {},
   "outputs": [
    {
     "data": {
      "text/plain": [
       "array([[5, 7, 9, 7, 7, 9],\n",
       "       [9, 9, 3, 7, 7, 3],\n",
       "       [7, 5, 7, 9, 9, 3],\n",
       "       [9, 3, 5, 5, 3, 9]])"
      ]
     },
     "execution_count": 9,
     "metadata": {},
     "output_type": "execute_result"
    }
   ],
   "source": [
    "#Example of 2-D array size set to generate 4 rows\n",
    "# Each row generates 6 values from the array parameter (3, 5, 7, and 9):\n",
    "from numpy import random\n",
    "rng = np.random.default_rng()\n",
    "\n",
    "rng.choice([3, 5, 7, 9], size=(4,6))\n",
    "\n",
    "\n",
    "\n",
    "#Weights\n",
    "\n",
    "#Ref https://www.w3schools.com/python/numpy/numpy_random.asp "
   ]
  },
  {
   "cell_type": "markdown",
   "metadata": {},
   "source": [
    "\n",
    "Choice and probabaility density function ( A function that describes a continuous probability. i.e. probability of all values in an array).\n",
    "\n",
    "The choice() method allows us to specify the probability for each value.\n",
    "\n",
    "The probability is set by a number between 0 and 1, where 0 means that the value will never occur and 1 means that the value will always occur. \n",
    "\n",
    "In the below example - \n",
    "The probability for the value to be 3 is set to be 0.1\n",
    "\n",
    "The probability for the value to be 5 is set to be 0.3\n",
    "\n",
    "The probability for the value to be 7 is set to be 0.6\n",
    "\n",
    "The probability for the value to be 9 is set to be 0\n",
    "\n",
    "The sum of all probability numbers should be 1.\n",
    "\n",
    "As the example below shows 9 will never occur in the output\n",
    "\n",
    "\n",
    "\n"
   ]
  },
  {
   "cell_type": "code",
   "execution_count": 10,
   "metadata": {},
   "outputs": [
    {
     "data": {
      "text/plain": [
       "array([7, 5, 5, 7, 5, 7, 3, 7, 5, 7, 5, 7, 5, 5, 7, 5, 5, 5, 7, 7, 5, 7,\n",
       "       7, 5, 7, 5, 7, 7, 3, 7, 7, 7, 5, 3, 5, 7, 5, 7, 7, 7, 5, 3, 5, 5,\n",
       "       7, 7, 7, 7, 7, 5, 7, 7, 5, 7, 7, 7, 7, 5, 5, 7, 7, 7, 7, 7, 5, 7,\n",
       "       5, 7, 7, 7, 7, 7, 7, 5, 3, 3, 7, 7, 7, 7, 7, 7, 7, 7, 7, 5, 7, 7,\n",
       "       7, 3, 5, 7, 7, 7, 5, 5, 3, 7, 7, 5])"
      ]
     },
     "execution_count": 10,
     "metadata": {},
     "output_type": "execute_result"
    }
   ],
   "source": [
    "#example choice and probabilty density function\n",
    "\n",
    "from numpy import random\n",
    "rng = np.random.default_rng()\n",
    "\n",
    "rng.choice([3, 5, 7, 9], p=[0.1, 0.3, 0.6, 0.0], size=(100))\n"
   ]
  },
  {
   "cell_type": "code",
   "execution_count": 11,
   "metadata": {},
   "outputs": [
    {
     "data": {
      "text/plain": [
       "array([[7, 5, 7, 5, 7],\n",
       "       [3, 7, 7, 7, 7],\n",
       "       [7, 5, 7, 5, 7]])"
      ]
     },
     "execution_count": 11,
     "metadata": {},
     "output_type": "execute_result"
    }
   ],
   "source": [
    "#choice also allows you to return arrays of any shape and size by specifing the shape in the size parameter\n",
    "#below example shows the return of a 2-D array with 3 rows each containing 5 values\n",
    "\n",
    "from numpy import random\n",
    "rng = np.random.default_rng()\n",
    "\n",
    "rng.choice([3, 5, 7, 9], p=[0.1, 0.3, 0.6, 0.0], size=(3, 5))\n",
    "\n"
   ]
  },
  {
   "cell_type": "markdown",
   "metadata": {},
   "source": [
    "numpy.random.Generator.bytes\n",
    "Return random bytes.\n",
    "\n",
    "Parameters\n",
    "lengthint\n",
    "Number of random bytes.\n",
    "\n",
    "Returns\n",
    "outbytes\n",
    "String of length length.\n"
   ]
  },
  {
   "cell_type": "code",
   "execution_count": 13,
   "metadata": {},
   "outputs": [
    {
     "data": {
      "text/plain": [
       "b'S0\\xebJ\\x88\\xc2A\"\\xeb\\xbe'"
      ]
     },
     "execution_count": 13,
     "metadata": {},
     "output_type": "execute_result"
    }
   ],
   "source": [
    "#Bytes This function of random module is used to generate random bytes.\n",
    "#Example\n",
    "import numpy as np  \n",
    "np.random.default_rng().bytes(10)\n"
   ]
  },
  {
   "cell_type": "markdown",
   "metadata": {},
   "source": [
    "<br>\n",
    "Permutations functions - grouping values were the order of values matter\n",
    "\n",
    "***\n",
    "There are the following functions of permutations:\n",
    "\n",
    "1) np.random.shuffle()\n",
    "\n",
    "This function is used for modifying a sequence in-place by shuffling its contents.\n",
    "\n",
    "2) np.random.permutation()\n",
    "\n",
    "This function permute a sequence randomly or return a permuted range.\n",
    "\n",
    "3) np.random.permuted () \n",
    "\n",
    "This function randomly permute x along axis axis."
   ]
  },
  {
   "cell_type": "code",
   "execution_count": 9,
   "metadata": {},
   "outputs": [
    {
     "data": {
      "text/plain": [
       "array([ 2, 11,  1,  5,  3, 10,  8,  0,  7,  6,  9,  4])"
      ]
     },
     "execution_count": 9,
     "metadata": {},
     "output_type": "execute_result"
    }
   ],
   "source": [
    "#Example of np.random.permutation\n",
    "\n",
    "import numpy as np  \n",
    "a=np.random.permutation(12)  \n",
    "a  "
   ]
  },
  {
   "cell_type": "code",
   "execution_count": 10,
   "metadata": {},
   "outputs": [
    {
     "ename": "AttributeError",
     "evalue": "module 'numpy' has no attribute 'permuted'",
     "output_type": "error",
     "traceback": [
      "\u001b[1;31m---------------------------------------------------------------------------\u001b[0m",
      "\u001b[1;31mAttributeError\u001b[0m                            Traceback (most recent call last)",
      "\u001b[1;32m<ipython-input-10-54753cd4656c>\u001b[0m in \u001b[0;36m<module>\u001b[1;34m\u001b[0m\n\u001b[0;32m      1\u001b[0m \u001b[1;31m# Example of np.random.permuted\u001b[0m\u001b[1;33m\u001b[0m\u001b[1;33m\u001b[0m\u001b[1;33m\u001b[0m\u001b[0m\n\u001b[0;32m      2\u001b[0m \u001b[1;33m\u001b[0m\u001b[0m\n\u001b[1;32m----> 3\u001b[1;33m \u001b[0mnp\u001b[0m\u001b[1;33m.\u001b[0m\u001b[0mpermuted\u001b[0m\u001b[1;33m(\u001b[0m\u001b[0mx\u001b[0m\u001b[1;33m,\u001b[0m \u001b[0maxis\u001b[0m\u001b[1;33m=\u001b[0m\u001b[1;36m1\u001b[0m\u001b[1;33m)\u001b[0m\u001b[1;33m\u001b[0m\u001b[1;33m\u001b[0m\u001b[0m\n\u001b[0m",
      "\u001b[1;32m~\\anaconda3\\lib\\site-packages\\numpy\\__init__.py\u001b[0m in \u001b[0;36m__getattr__\u001b[1;34m(attr)\u001b[0m\n\u001b[0;32m    301\u001b[0m                 \u001b[1;32mreturn\u001b[0m \u001b[0mTester\u001b[0m\u001b[1;33m\u001b[0m\u001b[1;33m\u001b[0m\u001b[0m\n\u001b[0;32m    302\u001b[0m \u001b[1;33m\u001b[0m\u001b[0m\n\u001b[1;32m--> 303\u001b[1;33m             raise AttributeError(\"module {!r} has no attribute \"\n\u001b[0m\u001b[0;32m    304\u001b[0m                                  \"{!r}\".format(__name__, attr))\n\u001b[0;32m    305\u001b[0m \u001b[1;33m\u001b[0m\u001b[0m\n",
      "\u001b[1;31mAttributeError\u001b[0m: module 'numpy' has no attribute 'permuted'"
     ]
    }
   ],
   "source": [
    "# Example of np.random.permuted\n",
    "\n",
    "np.permuted(x, axis=1)"
   ]
  },
  {
   "cell_type": "code",
   "execution_count": 11,
   "metadata": {},
   "outputs": [
    {
     "data": {
      "text/plain": [
       "array([ 8,  6,  3,  1,  2,  4,  0, 10,  7, 11,  9,  5])"
      ]
     },
     "execution_count": 11,
     "metadata": {},
     "output_type": "execute_result"
    }
   ],
   "source": [
    "#Example of np.random.shuffle e.g shuffle cards\n",
    "\n",
    "import numpy as np  \n",
    "a=np.arange(12)  \n",
    "a  \n",
    "np.random.shuffle(a)  \n",
    "a  "
   ]
  },
  {
   "cell_type": "markdown",
   "metadata": {},
   "source": [
    "<br>\n",
    "Distributions function\n",
    "\n",
    "***\n",
    "\n",
    "Explain use - to generate random python data\n"
   ]
  },
  {
   "cell_type": "markdown",
   "metadata": {},
   "source": [
    "<br>\n",
    "Disribution functions\n",
    "\n",
    "***\n",
    "\n",
    "Uniform distribution - one of the key distributions\n",
    "\n",
    "Normal Distribution Function\n",
    "\n",
    "Gamma Distribution Function\n",
    "\n",
    "Poisson Distribution\n",
    "\n",
    "Binomial Distribution\n",
    "\n",
    "\n",
    "https://www.datacamp.com/community/tutorials/probability-distributions-python"
   ]
  },
  {
   "cell_type": "code",
   "execution_count": null,
   "metadata": {},
   "outputs": [],
   "source": [
    "import matplotlib.pyplot as plt # used to create distribution plots\n",
    "import seaborn as sns  # used to visualize random distributions"
   ]
  },
  {
   "cell_type": "markdown",
   "metadata": {},
   "source": [
    "Uniform Distribution\n",
    "\n",
    "***\n",
    "random.Generator.uniform(low=0.0, high=1.0, size=None)\n",
    "Draw samples from a uniform distribution.\n",
    "\n",
    "Samples are uniformly distributed over the half-open interval [low, high) (includes low, but excludes high). In other words, any value within the given interval is equally likely to be drawn by uniform.\n",
    "\n",
    "https://numpy.org/doc/stable/reference/random/generated/numpy.random.Generator.uniform.html"
   ]
  },
  {
   "cell_type": "code",
   "execution_count": 12,
   "metadata": {},
   "outputs": [],
   "source": [
    "#Show uniform distribution of random integers in histogram plot\n",
    "\n",
    "#Examples\n",
    "\n",
    "#Draw samples from the distribution:\n",
    "\n",
    "s = np.random.default_rng().uniform(-1,0,1000)\n",
    "#All values are within the given interval:\n",
    "\n",
    "np.all(s >= -1)\n",
    "True\n",
    "np.all(s < 0)\n",
    "True\n",
    "#Display the histogram of the samples, along with the probability density function:\n",
    "\n",
    "import matplotlib.pyplot as plt\n",
    "count, bins, ignored = plt.hist(s, 15, density=True)\n",
    "plt.plot(bins, np.ones_like(bins), linewidth=2, color='r')\n",
    "plt.show()\n"
   ]
  },
  {
   "cell_type": "markdown",
   "metadata": {},
   "source": [
    "Normal Distribution\n",
    "\n",
    "***\n",
    "\n",
    "Draw random samples from a normal (Gaussian) distribution.\n",
    "\n",
    "The probability density function of the normal distribution, first derived by De Moivre and 200 years later by both Gauss and Laplace independently [2], is often called the bell curve because of its characteristic shape (see the example below).\n",
    "\n",
    "The normal distributions occurs often in nature. For example, it describes the commonly occurring distribution of samples influenced by a large number of tiny, random disturbances, each with its own unique distribution [2]."
   ]
  },
  {
   "cell_type": "code",
   "execution_count": 13,
   "metadata": {},
   "outputs": [],
   "source": [
    "#Normal distribution\n",
    "#Examples\n",
    "\n",
    "#Draw samples from the distribution:\n",
    "\n",
    "mu, sigma = 0, 0.1 # mean and standard deviation\n",
    "s = np.random.default_rng().normal(mu, sigma, 1000)\n",
    "#Verify the mean and the variance:\n",
    "\n",
    "abs(mu - np.mean(s))\n",
    "0.0  # may vary\n",
    "abs(sigma - np.std(s, ddof=1))\n",
    "0.0  # may vary\n",
    "#Display the histogram of the samples, along with the probability density function:\n",
    "\n",
    "import matplotlib.pyplot as plt\n",
    "count, bins, ignored = plt.hist(s, 30, density=True)\n",
    "plt.plot(bins, 1/(sigma * np.sqrt(2 * np.pi)) *\n",
    "               np.exp( - (bins - mu)**2 / (2 * sigma**2) ),\n",
    "         linewidth=2, color='r')\n",
    "plt.show()\n"
   ]
  },
  {
   "cell_type": "code",
   "execution_count": 14,
   "metadata": {},
   "outputs": [],
   "source": [
    "#Multinomial Distribution"
   ]
  },
  {
   "cell_type": "markdown",
   "metadata": {},
   "source": [
    "Poisson Distribution\n",
    "\n",
    "***\n",
    "\n",
    "random.Generator.poisson(lam=1.0, size=None)\n",
    "Draw samples from a Poisson distribution.\n",
    "\n",
    "The Poisson distribution is the limit of the binomial distribution for large N.\n"
   ]
  },
  {
   "cell_type": "code",
   "execution_count": 15,
   "metadata": {},
   "outputs": [],
   "source": [
    "#Poisson Distribution \n",
    "# Examples\n",
    "\n",
    "#Draw samples from the distribution:\n",
    "\n",
    "import numpy as np\n",
    "rng = np.random.default_rng()\n",
    "s = rng.poisson(5, 10000)\n",
    "\n",
    "#Display histogram of the sample:\n",
    "\n",
    "import matplotlib.pyplot as plt\n",
    "count, bins, ignored = plt.hist(s, 14, density=True)\n",
    "plt.show()"
   ]
  },
  {
   "cell_type": "code",
   "execution_count": null,
   "metadata": {},
   "outputs": [],
   "source": [
    "#Draw each 100 values for lambda 100 and 500:\n",
    "\n",
    "s = rng.poisson(lam=(100., 500.), size=(100, 2))"
   ]
  },
  {
   "cell_type": "markdown",
   "metadata": {},
   "source": [
    "Binomial Distribution\n",
    "\n",
    "***\n",
    "random.Generator.binomial(n, p, size=None)\n",
    "Draw samples from a binomial distribution.\n",
    "\n",
    "Samples are drawn from a binomial distribution with specified parameters, n trials and p probability of success where n an integer >= 0 and p is in the interval [0,1]. (n may be input as a float, but it is truncated to an integer in use)\n",
    "\n",
    "When estimating the standard error of a proportion in a population by using a random sample, the normal distribution works well unless the product p*n <=5, where p = population proportion estimate, and n = number of samples, in which case the binomial distribution is used instead. For example, a sample of 15 people shows 4 who are left handed, and 11 who are right handed. Then p = 4/15 = 27%. 0.27*15 = 4, so the binomial distribution should be used in this case.\n",
    "\n",
    "https://numpy.org/doc/stable/reference/random/generated/numpy.random.Generator.binomial.html\n"
   ]
  },
  {
   "cell_type": "code",
   "execution_count": 14,
   "metadata": {},
   "outputs": [],
   "source": [
    "#Binomial Distribution\n",
    "\n",
    "#Examples\n",
    "\n",
    "#Draw samples from the distribution:\n",
    "\n",
    "rng = np.random.default_rng()\n",
    "n, p = 10, .5  # number of trials, probability of each trial\n",
    "s = rng.binomial(n, p, 1000)\n",
    "# result of flipping a coin 10 times, tested 1000 times.\n"
   ]
  },
  {
   "cell_type": "code",
   "execution_count": 15,
   "metadata": {},
   "outputs": [
    {
     "data": {
      "text/plain": [
       "0.3899"
      ]
     },
     "execution_count": 15,
     "metadata": {},
     "output_type": "execute_result"
    }
   ],
   "source": [
    "#A real world example. A company drills 9 wild-cat oil exploration wells, each with an estimated probability of success of 0.1. All nine wells fail. What is the probability of that happening?\n",
    "\n",
    "#Let’s do 20,000 trials of the model, and count the number that generate zero positive results.\n",
    "\n",
    "sum(rng.binomial(9, 0.1, 20000) == 0)/20000.\n",
    "# answer = 0.38885, or 39%."
   ]
  },
  {
   "cell_type": "markdown",
   "metadata": {},
   "source": [
    "<br>\n",
    "Explain the use of seeds in generating pseudorandon numbers\n",
    "\n",
    "***\n",
    "Numpy's random module, a suite of functions based on pseudorandom number generation. Random means something that can not be predicted logically.\n",
    "The pseudorandom number works by starting with an integer called a seed and then generates numbers in succession. The same seed gives the same sequence of random numbers, hence the name \"pseudo\" random number generation. If you want to have reproducible code, it is good to seed the random number generator using the np.random.seed() function.\n",
    "\n",
    "To do the coin flips, you import NumPy, seed the random number generator, and then draw four random numbers. You can specify how many random numbers you want with the size keyword.\n",
    "\n",
    "In previous version of Numpy random (v1.15) the default random generator used the mersenne twister (MT19937) algorythm. This algorthym not perfect in terms of non-predictability. The MT19937 algorithm keeps track of its state in 624 32-bit values. If an attacker were able to gather 624 sequential values, then the entire sequence—forward and backward—could be reverse-engineered.\n",
    "\n",
    "In the latest update of Numpy.Random v1.19 The default bitgenerator is now the Permuted Congruential Generator 64 Bit (PCG64). The following website provides an at a glance comparision of the two types of algorythm - https://www.pcg-random.org/. PCG64 improves the statistical performance when random number generating and it is much more randon when compared to mersenne twist which makes it harder to predict its output and therefore more secure."
   ]
  },
  {
   "cell_type": "code",
   "execution_count": 2,
   "metadata": {},
   "outputs": [
    {
     "name": "stdout",
     "output_type": "stream",
     "text": [
      "50\n"
     ]
    }
   ],
   "source": [
    "import random\n",
    "for i in range(10):\n",
    "# Any number or integer value can be used instead of using '0'.\n",
    "  random.seed(0)\n",
    "# Generation of random values will be between 1 to 100.\n",
    "print(random.randint(1, 100))"
   ]
  },
  {
   "cell_type": "code",
   "execution_count": 3,
   "metadata": {},
   "outputs": [
    {
     "name": "stdout",
     "output_type": "stream",
     "text": [
      "2949\n"
     ]
    }
   ],
   "source": [
    "import random\n",
    "\n",
    "# print a random number between 1 and 1000.\n",
    "\n",
    "# the code is written in order to repeat the same random number multiple times\n",
    "random.seed(3)\n",
    "print(random.randint(1000, 8000))\n"
   ]
  },
  {
   "cell_type": "code",
   "execution_count": 4,
   "metadata": {},
   "outputs": [
    {
     "name": "stdout",
     "output_type": "stream",
     "text": [
      "5854\n"
     ]
    }
   ],
   "source": [
    "# If seed function is not used\n",
    "# The program is being used to generate unpridictible output and genrate totally random values\n",
    "print(random.randint(1000, 8000))"
   ]
  },
  {
   "cell_type": "markdown",
   "metadata": {},
   "source": [
    "<br>\n",
    "References\n",
    "\n",
    "***\n",
    "\n",
    "https://numpy.org/doc/stable/reference/random/index.html\n",
    "\n",
    "https://numpy.org/doc/stable/reference/random/generator.html#numpy.random.Generator\n",
    "\n",
    "https://www.w3schools.com/python/numpy/numpy_random.asp\n",
    "\n",
    "https://numpy.org/doc/stable/user/basics.creation.html\n",
    "\n",
    "https://www.datacamp.com/community/tutorials/probability-distributions-python\n",
    "\n",
    "https://www.javatpoint.com/numpy-random\n",
    "\n",
    "\n",
    "https://www.w3schools.com/python/numpy/numpy_random_distribution.asp\n",
    "\n",
    "\n",
    "Seeds\n",
    "\n",
    "https://www.pcg-random.org/ \n",
    "\n",
    "https://www.datacamp.com/community/tutorials/numpy-random\n",
    "\n",
    "https://www.sciencedirect.com/topics/computer-science/mersenne-twister\n",
    "\n",
    "https://www.educba.com/numpy-random-seed/"
   ]
  }
 ],
 "metadata": {
  "kernelspec": {
   "display_name": "Python 3",
   "language": "python",
   "name": "python3"
  },
  "language_info": {
   "codemirror_mode": {
    "name": "ipython",
    "version": 3
   },
   "file_extension": ".py",
   "mimetype": "text/x-python",
   "name": "python",
   "nbconvert_exporter": "python",
   "pygments_lexer": "ipython3",
   "version": "3.8.8"
  }
 },
 "nbformat": 4,
 "nbformat_minor": 2
}
