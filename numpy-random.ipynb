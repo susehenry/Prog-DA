{
 "cells": [
  {
   "cell_type": "markdown",
   "metadata": {},
   "source": []
  },
  {
   "cell_type": "markdown",
   "id": "4a08a755",
   "metadata": {},
   "source": [
    "<br>\n",
    "# Numpy Random Package\n",
    "\n",
    "___\n"
   ]
  },
  {
   "cell_type": "markdown",
   "metadata": {},
   "source": [
    "\n",
    "<br>\n",
    "numpy.random package v1.19\n",
    "\n",
    "***\n",
    "\n",
    "In this assignment I will be explaining the uses of the numpy.random package. It is a sub package of numpy, numpy can create multi dimensonal arrays and uses algorithms to quickly analyse data. NumPy gives you an enormous range of fast and efficient ways of creating arrays and manipulating numerical data inside them.\n",
    "The numpy.random package is used to generate simulated data which then can be used in an array to carry out analysis.\n",
    "\n",
    "What is an array\n",
    "An array is a central data structure of the NumPy library. An array is a grid of values and it contains information about the raw data, how to locate an element, and how to interpret an element. NumPy arrays can be defined using Python sequences such as lists and tuples. Lists and tuples are defined using [...] and (...), respectively. a list of numbers will create a 1D array,a list of lists will create a 2D array,\n",
    "\n",
    "further nested lists will create higher-dimensional arrays\n",
    "\n",
    "ref:https://numpy.org/doc/stable/user/basics.creation.html"
   ]
  },
  {
   "cell_type": "markdown",
   "metadata": {},
   "source": [
    "<br>\n",
    "Simple random data functions\n",
    "\n",
    "***\n",
    "\n",
    "There are four simple random data functions\n",
    "- integers (low[, high, size, dtype, endpoint])\n",
    "- Random ([size, dtype, out])\n",
    "- Choice \n",
    "- Bytes\n"
   ]
  },
  {
   "cell_type": "code",
   "execution_count": null,
   "metadata": {},
   "outputs": [],
   "source": [
    "import numpy as np\n",
    "\n",
    "rng = np.random.default_rng()"
   ]
  },
  {
   "cell_type": "code",
   "execution_count": null,
   "metadata": {},
   "outputs": [],
   "source": [
    "# Integers - returns random integers\n",
    "\n",
    "#this will return one random integer between 0-5\n",
    "rng.integers (6)\n",
    "\n",
    "#this will return 10000 random integers between 0-99\n",
    "i = rng.integers (100, size =10000)\n",
    "print (\"i\", i)\n",
    "#this will return 5 coloumns and 3 rows of random integers between the numbers 0 - 99\n",
    "x = rng.integers (100, size = (5  , 3))\n",
    "print (\"x\", x)"
   ]
  },
  {
   "cell_type": "code",
   "execution_count": null,
   "metadata": {},
   "outputs": [],
   "source": [
    "# Random([size, dtype, out])   \n",
    "#Return random floats in the half-open interval [0.0, 1.0)."
   ]
  },
  {
   "cell_type": "markdown",
   "metadata": {},
   "source": [
    "<br>\n",
    "Choice\n",
    "***\n",
    "The choice() method allows you to generate a random value based on an array of values.\n",
    "The choice() method takes an array as a parameter and randomly returns one of the values.\n",
    "Return one of the values in an array:"
   ]
  },
  {
   "cell_type": "code",
   "execution_count": null,
   "metadata": {},
   "outputs": [],
   "source": [
    "\n",
    "#Example\n",
    "from numpy import random\n",
    "\n",
    "x = random.choice([3, 5, 7, 9])\n",
    "\n",
    "print(x)"
   ]
  },
  {
   "cell_type": "markdown",
   "metadata": {},
   "source": [
    "The choice() method also allows you to return an array of values.\n",
    "\n",
    "Add a size parameter to specify the shape of the array.\n",
    "\n",
    "In the example below a 2-D array is generated that is 4 rows and each row contains 6 values from the array parameter (3, 5, 7, and 9):"
   ]
  },
  {
   "cell_type": "code",
   "execution_count": null,
   "metadata": {},
   "outputs": [],
   "source": [
    "#Example\n",
    "from numpy import random\n",
    "\n",
    "x = random.choice([3, 5, 7, 9], size=(4,6))\n",
    "\n",
    "print(x)\n",
    "\n",
    "#Weights\n",
    "\n",
    "#Ref https://www.w3schools.com/python/numpy/numpy_random.asp "
   ]
  },
  {
   "cell_type": "markdown",
   "metadata": {},
   "source": [
    "<br>\n",
    "Choice and probabaility density function ( A function that describes a continuous probability. i.e. probability of all values in an array).\n",
    "\n",
    "The choice() method allows us to specify the probability for each value.\n",
    "\n",
    "The probability is set by a number between 0 and 1, where 0 means that the value will never occur and 1 means that the value will always occur. \n",
    "\n",
    "In the below example - \n",
    "The probability for the value to be 3 is set to be 0.1\n",
    "\n",
    "The probability for the value to be 5 is set to be 0.3\n",
    "\n",
    "The probability for the value to be 7 is set to be 0.6\n",
    "\n",
    "The probability for the value to be 9 is set to be 0\n",
    "\n",
    "The sum of all probability numbers should be 1.\n",
    "\n",
    "As the example below shows 9 will never occur in the output\n",
    "\n",
    "\n",
    "\n"
   ]
  },
  {
   "cell_type": "code",
   "execution_count": null,
   "metadata": {},
   "outputs": [],
   "source": [
    "#choice\n",
    "\n",
    "from numpy import random\n",
    "\n",
    "x = random.choice([3, 5, 7, 9], p=[0.1, 0.3, 0.6, 0.0], size=(100))\n",
    "\n",
    "print(x)"
   ]
  },
  {
   "cell_type": "code",
   "execution_count": null,
   "metadata": {},
   "outputs": [],
   "source": [
    "#choice also allows you to return arrays of any shape and size by specifing the shape in the size parameter\n",
    "#below example shows the return of a 2-D array with 3 rows each containing 5 values\n",
    "\n",
    "from numpy import random\n",
    "\n",
    "x = random.choice([3, 5, 7, 9], p=[0.1, 0.3, 0.6, 0.0], size=(3, 5))\n",
    "\n",
    "print(x)"
   ]
  },
  {
   "cell_type": "code",
   "execution_count": null,
   "metadata": {},
   "outputs": [],
   "source": [
    "#Bytes This function of random module is used to generate random bytes.\n",
    "#Example\n",
    "import numpy as np  \n",
    "a=np.random.bytes(7)  \n",
    "a  "
   ]
  },
  {
   "cell_type": "markdown",
   "metadata": {},
   "source": [
    "<br>\n",
    "Permutations functions - grouping values were the order of values matter\n",
    "\n",
    "***\n",
    "There are the following functions of permutations:\n",
    "\n",
    "1) np.random.shuffle()\n",
    "\n",
    "This function is used for modifying a sequence in-place by shuffling its contents.\n",
    "\n",
    "2) np.random.permutation()\n",
    "\n",
    "This function permute a sequence randomly or return a permuted range.\n",
    "\n",
    "3) np.random.permuted () \n",
    "\n",
    "This function randomly permute x along axis axis."
   ]
  },
  {
   "cell_type": "code",
   "execution_count": null,
   "metadata": {},
   "outputs": [],
   "source": [
    "#Example of np.random.permutation\n",
    "\n",
    "import numpy as np  \n",
    "a=np.random.permutation(12)  \n",
    "a  "
   ]
  },
  {
   "cell_type": "code",
   "execution_count": null,
   "metadata": {},
   "outputs": [],
   "source": [
    "# Example of np.random.permuted\n",
    "\n",
    "np.permuted(x, axis=1)"
   ]
  },
  {
   "cell_type": "code",
   "execution_count": null,
   "metadata": {},
   "outputs": [],
   "source": [
    "#Example of np.random.shuffle e.g shuffle cards\n",
    "\n",
    "import numpy as np  \n",
    "a=np.arange(12)  \n",
    "a  \n",
    "np.random.shuffle(a)  \n",
    "a  "
   ]
  },
  {
   "cell_type": "markdown",
   "metadata": {},
   "source": [
    "<br>\n",
    "Distributions function\n",
    "\n",
    "***\n",
    "\n",
    "Explain use - to generate random python data\n"
   ]
  },
  {
   "cell_type": "markdown",
   "metadata": {},
   "source": [
    "<br>\n",
    "Disribution functions\n",
    "\n",
    "***\n",
    "\n",
    "Uniform distribution - one of the key distributions\n",
    "\n",
    "Normal Distribution Function\n",
    "\n",
    "Gamma Distribution Function\n",
    "\n",
    "Poisson Distribution\n",
    "\n",
    "Binomial Distribution\n",
    "\n",
    "\n",
    "https://www.datacamp.com/community/tutorials/probability-distributions-python"
   ]
  },
  {
   "cell_type": "code",
   "execution_count": null,
   "metadata": {},
   "outputs": [],
   "source": [
    "#Show uniform distribution of random integers in histogram plot\n",
    "\n",
    "import matplotlib.pyplot as plt # used to create distribution plots\n",
    "import seaborn as sns  # used to visualize random distributions\n"
   ]
  },
  {
   "cell_type": "code",
   "execution_count": null,
   "metadata": {},
   "outputs": [],
   "source": [
    "#Normal distribution\n"
   ]
  },
  {
   "cell_type": "code",
   "execution_count": null,
   "metadata": {},
   "outputs": [],
   "source": [
    "#Multinomial Distribution"
   ]
  },
  {
   "cell_type": "code",
   "execution_count": null,
   "metadata": {},
   "outputs": [],
   "source": [
    "#Poisson Distribution"
   ]
  },
  {
   "cell_type": "code",
   "execution_count": null,
   "metadata": {},
   "outputs": [],
   "source": [
    "#Binomial Distribution"
   ]
  },
  {
   "cell_type": "markdown",
   "metadata": {},
   "source": [
    "<br>\n",
    "Explain the use of seeds in generating pseudorandon numbers\n",
    "\n",
    "***\n",
    "Numpy's random module, a suite of functions based on pseudorandom number generation. Random means something that can not be predicted logically.\n",
    "The pseudorandom number works by starting with an integer called a seed and then generates numbers in succession. The same seed gives the same sequence of random numbers, hence the name \"pseudo\" random number generation. If you want to have reproducible code, it is good to seed the random number generator using the np.random.seed() function.\n",
    "\n",
    "To do the coin flips, you import NumPy, seed the random number generator, and then draw four random numbers. You can specify how many random numbers you want with the size keyword.\n",
    "\n",
    "In previous version of Numpy random (v1.15) the default random generator used the mersenne twister (MT19937) algorythm. This algorthym not perfect in terms of non-predictability. The MT19937 algorithm keeps track of its state in 624 32-bit values. If an attacker were able to gather 624 sequential values, then the entire sequence—forward and backward—could be reverse-engineered.\n",
    "\n",
    "In the latest update of Numpy.Random v1.19 The default bitgenerator is now the Permuted Congruential Generator 64 Bit (PCG64). The following website provides an at a glance comparision of the two types of algorythm - https://www.pcg-random.org/. PCG64 improves the statistical performance when random number generating and it is much more randon when compared to mersenne twist which makes it harder to predict its output and therefore more secure."
   ]
  },
  {
   "cell_type": "code",
   "execution_count": null,
   "metadata": {},
   "outputs": [],
   "source": []
  },
  {
   "cell_type": "markdown",
   "metadata": {},
   "source": [
    "<br>\n",
    "References\n",
    "\n",
    "***\n",
    "\n",
    "https://numpy.org/doc/stable/reference/random/index.html\n",
    "\n",
    "https://numpy.org/doc/stable/reference/random/generator.html#numpy.random.Generator\n",
    "\n",
    "https://www.w3schools.com/python/numpy/numpy_random.asp\n",
    "\n",
    "https://numpy.org/doc/stable/user/basics.creation.html\n",
    "\n",
    "https://www.datacamp.com/community/tutorials/probability-distributions-python\n",
    "\n",
    "https://www.javatpoint.com/numpy-random\n",
    "\n",
    "\n",
    "https://www.w3schools.com/python/numpy/numpy_random_distribution.asp\n",
    "\n",
    "\n",
    "Seeds\n",
    "https://www.pcg-random.org/ \n",
    "\n",
    "https://www.datacamp.com/community/tutorials/numpy-random\n",
    "\n",
    "https://www.sciencedirect.com/topics/computer-science/mersenne-twister"
   ]
  }
 ],
 "metadata": {
  "kernelspec": {
   "display_name": "Python 3",
   "language": "python",
   "name": "python3"
  },
  "language_info": {
   "codemirror_mode": {
    "name": "ipython",
    "version": 3
   },
   "file_extension": ".py",
   "mimetype": "text/x-python",
   "name": "python",
   "nbconvert_exporter": "python",
   "pygments_lexer": "ipython3",
   "version": "3.8.8"
  }
 },
 "nbformat": 4,
 "nbformat_minor": 2
}
