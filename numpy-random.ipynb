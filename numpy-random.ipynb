{
 "cells": [
  {
   "cell_type": "markdown",
   "metadata": {},
   "source": []
  },
  {
   "cell_type": "markdown",
   "id": "4a08a755",
   "metadata": {},
   "source": [
    "<br>\n",
    "# Numpy Random Package\n",
    "\n",
    "___\n"
   ]
  },
  {
   "cell_type": "markdown",
   "metadata": {},
   "source": [
    "\n",
    "<br>\n",
    "numpy.random package v1.19\n",
    "\n",
    "***\n",
    "\n",
    "In this assignment I will be explaining the uses of the numpy.random package. It is a sub package of numpy, numpy can create multi dimensonal arrays and uses algorithms to quickly analyse data. NumPy gives you an enormous range of fast and efficient ways of creating arrays and manipulating numerical data inside them.\n",
    "The numpy.random package is used to generate simulated data which then can be used in an array to carry out analysis.\n",
    "\n",
    "What is an array\n",
    "An array is a central data structure of the NumPy library. An array is a grid of values and it contains information about the raw data, how to locate an element, and how to interpret an element. NumPy arrays can be defined using Python sequences such as lists and tuples. Lists and tuples are defined using [...] and (...), respectively. a list of numbers will create a 1D array,a list of lists will create a 2D array,\n",
    "\n",
    "further nested lists will create higher-dimensional arrays\n",
    "\n",
    "ref:https://numpy.org/doc/stable/user/basics.creation.html"
   ]
  },
  {
   "cell_type": "markdown",
   "metadata": {},
   "source": [
    "<br>\n",
    "Simple random data functions\n",
    "\n",
    "***\n",
    "\n",
    "There are four simple random data functions\n",
    "- integers (low[, high, size, dtype, endpoint])\n",
    "- Random ([size, dtype, out])\n",
    "- Choice \n",
    "- Bytes\n"
   ]
  },
  {
   "cell_type": "code",
   "execution_count": null,
   "metadata": {},
   "outputs": [],
   "source": [
    "import numpy as np\n",
    "\n",
    "rng = np.random.default_rng()"
   ]
  },
  {
   "cell_type": "code",
   "execution_count": null,
   "metadata": {},
   "outputs": [],
   "source": [
    "# Integers - returns random integers\n",
    "\n",
    "#this will return one random integer between 0-5\n",
    "rng.integers (6)\n",
    "\n",
    "#this will return 10000 random integers between 0-99\n",
    "i = rng.integers (100, size =10000)\n",
    "print (\"i\", i)\n",
    "#this will return 5 coloumns and 3 rows of random integers between the numbers 0 - 99\n",
    "x = rng.integers (100, size = (5  , 3))\n",
    "print (\"x\", x)"
   ]
  },
  {
   "cell_type": "code",
   "execution_count": null,
   "metadata": {},
   "outputs": [],
   "source": [
    "# Random([size, dtype, out])   \n",
    "#Return random floats in the half-open interval [0.0, 1.0)."
   ]
  },
  {
   "cell_type": "code",
   "execution_count": null,
   "metadata": {},
   "outputs": [],
   "source": [
    "#Choice \n",
    "#The choice() method allows you to generate a random value based on an array of values.\n",
    "#The choice() method takes an array as a parameter and randomly returns one of the values.\n",
    "#Return one of the values in an array:\n",
    "#Example\n",
    "from numpy import random\n",
    "\n",
    "x = random.choice([3, 5, 7, 9])\n",
    "\n",
    "print(x)\n",
    "\n",
    "#The choice() method also allows you to return an array of values.\n",
    "\n",
    "#Add a size parameter to specify the shape of the array.\n",
    "\n",
    "#Example\n",
    "#Generate a 2-D array that consists of the values in the array parameter (3, 5, 7, and 9):\n",
    "\n",
    "from numpy import random\n",
    "\n",
    "x = random.choice([3, 5, 7, 9], size=(3, 5))\n",
    "\n",
    "print(x)\n",
    "\n",
    "#Weights\n",
    "\n",
    "#Ref https://www.w3schools.com/python/numpy/numpy_random.asp "
   ]
  },
  {
   "cell_type": "code",
   "execution_count": null,
   "metadata": {},
   "outputs": [],
   "source": [
    "#Bytes This function of random module is used to generate random bytes.\n",
    "#Example\n",
    "import numpy as np  \n",
    "a=np.random.bytes(7)  \n",
    "a  "
   ]
  },
  {
   "cell_type": "markdown",
   "metadata": {},
   "source": [
    "<br>\n",
    "Permutations functions\n",
    "\n",
    "***\n",
    "There are the following functions of permutations:\n",
    "\n",
    "1) np.random.shuffle()\n",
    "\n",
    "This function is used for modifying a sequence in-place by shuffling its contents.\n",
    "\n",
    "2) np.random.permutation()\n",
    "\n",
    "This function permute a sequence randomly or return a permuted range.\n",
    "\n",
    "3) np.random.permuted () \n",
    "\n",
    "This function randomly permute x along axis axis."
   ]
  },
  {
   "cell_type": "code",
   "execution_count": null,
   "metadata": {},
   "outputs": [],
   "source": [
    "#Example of np.random.permutation\n",
    "\n",
    "import numpy as np  \n",
    "a=np.random.permutation(12)  \n",
    "a  "
   ]
  },
  {
   "cell_type": "code",
   "execution_count": null,
   "metadata": {},
   "outputs": [],
   "source": [
    "# Example of np.random.permuted\n",
    "\n",
    "rng.permuted(x, axis=1)"
   ]
  },
  {
   "cell_type": "code",
   "execution_count": null,
   "metadata": {},
   "outputs": [],
   "source": [
    "#Example of np.randon.shuffle e.g shuffle cards\n",
    "\n",
    "import numpy as np  \n",
    "a=np.arange(12)  \n",
    "a  \n",
    "np.random.shuffle(a)  \n",
    "a  "
   ]
  },
  {
   "cell_type": "markdown",
   "metadata": {},
   "source": [
    "<br>\n",
    "Distributions function\n",
    "\n",
    "***\n",
    "\n",
    "Explain use - to generate random python data\n"
   ]
  },
  {
   "cell_type": "markdown",
   "metadata": {},
   "source": [
    "5 Disribution functions\n",
    "\n",
    "Uniform distribution - one of the key distributions\n",
    "\n",
    "Normal Distribution Function\n",
    "\n",
    "Gamma Distribution Function\n",
    "\n",
    "Poisson Distribution\n",
    "\n",
    "Binomial Distribution\n",
    "\n",
    "\n",
    "https://www.datacamp.com/community/tutorials/probability-distributions-python"
   ]
  },
  {
   "cell_type": "code",
   "execution_count": null,
   "metadata": {},
   "outputs": [],
   "source": [
    "#Show uniform distribution of random integers in histogram plot\n",
    "\n",
    "import matplotlib.pyplot as plt\n",
    "\n",
    "plt.hist (i)\n",
    "plt.show ()"
   ]
  },
  {
   "cell_type": "code",
   "execution_count": null,
   "metadata": {},
   "outputs": [],
   "source": [
    "#Normal distribution"
   ]
  },
  {
   "cell_type": "code",
   "execution_count": null,
   "metadata": {},
   "outputs": [],
   "source": [
    "# Gamma Distribution"
   ]
  },
  {
   "cell_type": "code",
   "execution_count": null,
   "metadata": {},
   "outputs": [],
   "source": [
    "#Poisson Distribution"
   ]
  },
  {
   "cell_type": "code",
   "execution_count": null,
   "metadata": {},
   "outputs": [],
   "source": [
    "#Binomial Distribution"
   ]
  },
  {
   "cell_type": "markdown",
   "metadata": {},
   "source": [
    "<br>\n",
    "Explain the use of seeds in generating pseudorandon numbers\n",
    "\n",
    "***"
   ]
  },
  {
   "cell_type": "code",
   "execution_count": null,
   "metadata": {},
   "outputs": [],
   "source": []
  },
  {
   "cell_type": "markdown",
   "metadata": {},
   "source": [
    "<br>\n",
    "References\n",
    "\n",
    "***\n",
    "\n",
    "https://numpy.org/doc/stable/reference/random/index.html\n",
    "\n",
    "https://numpy.org/doc/stable/reference/random/generator.html#numpy.random.Generator\n",
    "\n",
    "https://www.w3schools.com/python/numpy/numpy_random.asp\n",
    "\n",
    "https://numpy.org/doc/stable/user/basics.creation.html\n",
    "\n",
    "https://www.datacamp.com/community/tutorials/probability-distributions-python\n",
    "\n",
    "https://www.javatpoint.com/numpy-random\n"
   ]
  }
 ],
 "metadata": {
  "kernelspec": {
   "display_name": "Python 3",
   "language": "python",
   "name": "python3"
  },
  "language_info": {
   "codemirror_mode": {
    "name": "ipython",
    "version": 3
   },
   "file_extension": ".py",
   "mimetype": "text/x-python",
   "name": "python",
   "nbconvert_exporter": "python",
   "pygments_lexer": "ipython3",
   "version": "3.8.8"
  }
 },
 "nbformat": 4,
 "nbformat_minor": 2
}
