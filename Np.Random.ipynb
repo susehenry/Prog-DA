{
 "cells": [
  {
   "cell_type": "markdown",
   "id": "27c016ff",
   "metadata": {},
   "source": [
    "<br>\n",
    "numpy.random package \n",
    "\n",
    "***\n",
    "\n",
    "Explain the overall purpose of the package in python\n"
   ]
  },
  {
   "cell_type": "markdown",
   "id": "ba2900d7",
   "metadata": {},
   "source": [
    "<br>\n",
    "Programming for Data Analysis\n",
    "\n",
    "___\n"
   ]
  },
  {
   "cell_type": "code",
   "execution_count": null,
   "id": "c8561d1c",
   "metadata": {},
   "outputs": [],
   "source": []
  },
  {
   "cell_type": "markdown",
   "id": "9b759df3",
   "metadata": {},
   "source": [
    "<br>\n",
    "Simple random data functions\n",
    "\n",
    "***\n",
    "\n",
    "Explain the use\n"
   ]
  },
  {
   "cell_type": "code",
   "execution_count": null,
   "id": "4646e003",
   "metadata": {},
   "outputs": [],
   "source": []
  },
  {
   "cell_type": "markdown",
   "id": "99f25623",
   "metadata": {},
   "source": [
    "<br>\n",
    "Permutations functions\n",
    "\n",
    "***\n",
    "\n",
    "Explain the use"
   ]
  },
  {
   "cell_type": "code",
   "execution_count": null,
   "id": "2fd11b54",
   "metadata": {},
   "outputs": [],
   "source": []
  },
  {
   "cell_type": "markdown",
   "id": "d8d90ab7",
   "metadata": {},
   "source": [
    "<br>\n",
    "Distributions function\n",
    "\n",
    "***\n",
    "\n",
    "Explain use - to generate random python data\n"
   ]
  },
  {
   "cell_type": "markdown",
   "id": "04db9fc5",
   "metadata": {},
   "source": [
    "5 Disribution functions\n",
    "\n",
    "\n",
    "1. Rand() function of numpy random\n",
    "2. Choice(a, size)  \n",
    "3. randint() function of numpy random\n",
    "4. Uniform()\n",
    "5. Shuffle()"
   ]
  },
  {
   "cell_type": "code",
   "execution_count": null,
   "id": "3d308514",
   "metadata": {},
   "outputs": [],
   "source": []
  },
  {
   "cell_type": "markdown",
   "id": "3b76f663",
   "metadata": {},
   "source": [
    "<br>\n",
    "Explain the use of seeds in generating pseudorandon numbers\n",
    "\n",
    "***"
   ]
  },
  {
   "cell_type": "code",
   "execution_count": null,
   "id": "2802f786",
   "metadata": {},
   "outputs": [],
   "source": []
  },
  {
   "cell_type": "markdown",
   "id": "0fc51557",
   "metadata": {},
   "source": [
    "<br>\n",
    "References\n",
    "\n",
    "***"
   ]
  },
  {
   "cell_type": "code",
   "execution_count": null,
   "id": "c90413c3",
   "metadata": {},
   "outputs": [],
   "source": []
  }
 ],
 "metadata": {
  "interpreter": {
   "hash": "bcc66141a08faa045a8ae474ef8c79a15b807dc8555628bafcac26ff30b943f9"
  },
  "kernelspec": {
   "display_name": "Python 3",
   "language": "python",
   "name": "python3"
  },
  "language_info": {
   "codemirror_mode": {
    "name": "ipython",
    "version": 3
   },
   "file_extension": ".py",
   "mimetype": "text/x-python",
   "name": "python",
   "nbconvert_exporter": "python",
   "pygments_lexer": "ipython3",
   "version": "3.8.8"
  }
 },
 "nbformat": 4,
 "nbformat_minor": 5
}
